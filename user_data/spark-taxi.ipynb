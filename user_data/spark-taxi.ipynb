{
 "cells": [
  {
   "cell_type": "markdown",
   "id": "f7145ddb",
   "metadata": {},
   "source": [
    "## Configuração de Env e Sparks"
   ]
  },
  {
   "cell_type": "code",
   "execution_count": 1,
   "id": "3d977dd9-de5a-4f7b-b938-307333aeee18",
   "metadata": {},
   "outputs": [],
   "source": [
    "import os\n",
    "os.environ[\"JAVA_HOME\"] = \"/usr/local/openjdk-8\"\n",
    "os.environ[\"SPARK_HOME\"] = \"/user_data/spark-3.3.0-bin-hadoop2\"\n",
    "\n",
    "import findspark\n",
    "findspark.init('spark-3.3.0-bin-hadoop2')"
   ]
  },
  {
   "cell_type": "markdown",
   "id": "22cce02b-dcb3-41a8-b5f3-be2d340d7ce3",
   "metadata": {},
   "source": [
    "## Imports"
   ]
  },
  {
   "cell_type": "code",
   "execution_count": 2,
   "id": "00f41645-7cd9-42df-b97a-8e33155684c8",
   "metadata": {},
   "outputs": [
    {
     "name": "stderr",
     "output_type": "stream",
     "text": [
      "SLF4J: Class path contains multiple SLF4J bindings.\n",
      "SLF4J: Found binding in [jar:file:/user_data/spark-3.3.0-bin-hadoop2/jars/log4j-slf4j-impl-2.17.2.jar!/org/slf4j/impl/StaticLoggerBinder.class]\n",
      "SLF4J: Found binding in [jar:file:/usr/hadoop-2.7.3/share/hadoop/common/lib/slf4j-log4j12-1.7.10.jar!/org/slf4j/impl/StaticLoggerBinder.class]\n",
      "SLF4J: See http://www.slf4j.org/codes.html#multiple_bindings for an explanation.\n",
      "SLF4J: Actual binding is of type [org.apache.logging.slf4j.Log4jLoggerFactory]\n",
      "Setting default log level to \"WARN\".\n",
      "To adjust logging level use sc.setLogLevel(newLevel). For SparkR, use setLogLevel(newLevel).\n"
     ]
    },
    {
     "name": "stdout",
     "output_type": "stream",
     "text": [
      "24/05/04 22:31:35 WARN NativeCodeLoader: Unable to load native-hadoop library for your platform... using builtin-java classes where applicable\n"
     ]
    }
   ],
   "source": [
    "# Importando bibliotecas necessárias\n",
    "from pyspark.sql import SparkSession\n",
    "from pyspark.sql.functions import col\n",
    "from pyspark.sql.functions import when\n",
    "from pyspark.sql.functions import unix_timestamp\n",
    "from pyspark.ml.feature import VectorAssembler\n",
    "from pyspark.ml.stat import Correlation\n",
    "from pyspark.ml.regression import LinearRegression\n",
    "from pyspark.ml.regression import DecisionTreeRegressor\n",
    "from pyspark.ml.evaluation import RegressionEvaluator\n",
    "\n",
    "spark = (\n",
    "    SparkSession.builder.appName(\"spark_taxi\")\n",
    "    .config(\"spark.sql.warehouse.dir\", \"hdfs:///user/hive/warehouse\")\n",
    "    .config(\"spark.sql.catalogImplementation\", \"hive\")\n",
    "    .getOrCreate()\n",
    ")"
   ]
  },
  {
   "cell_type": "markdown",
   "id": "89d97666",
   "metadata": {},
   "source": [
    "## Dataset escolhido\n",
    "\n",
    "O dataset escolhido foi o [NYC Yellow Taxi Trip Data\n",
    " (link do Kaggle)](https://www.kaggle.com/datasets/elemento/nyc-yellow-taxi-trip-data?select=yellow_tripdata_2016-03.csv). \n",
    "\n",
    "A New York City (NYC) Taxi & Limousine Commission (TLC) disponibiliza dados de todos os seus táxis gratuitamente no website oficial. Esse dataset considera apenas os famosos táxis amarelos de Nova York que oferecem transporte exclusivamente através de chamadas de rua. O csv selecionado possui dados de Janeiro até Março de 2016, sendo 1.91 GB.\n",
    " \n",
    "Dentro do dataset, teremos algumas informações sobre as viagens feitas de táxis amarelos."
   ]
  },
  {
   "cell_type": "markdown",
   "id": "448285de-ba86-494f-8fd1-634b8c71076a",
   "metadata": {},
   "source": [
    "## Leitura do dataset"
   ]
  },
  {
   "cell_type": "code",
   "execution_count": 3,
   "id": "fb01bb0f-0cd7-4b18-937c-3d76eb3262c0",
   "metadata": {},
   "outputs": [
    {
     "name": "stderr",
     "output_type": "stream",
     "text": [
      "                                                                                \r"
     ]
    },
    {
     "name": "stdout",
     "output_type": "stream",
     "text": [
      "Número de linhas no DataFrame: 12210952\n"
     ]
    },
    {
     "name": "stderr",
     "output_type": "stream",
     "text": [
      "[Stage 5:>                                                        (0 + 16) / 16]\r"
     ]
    },
    {
     "name": "stdout",
     "output_type": "stream",
     "text": [
      "Número de linhas no DataFrame Sample: 8546588\n"
     ]
    },
    {
     "name": "stderr",
     "output_type": "stream",
     "text": [
      "                                                                                \r"
     ]
    }
   ],
   "source": [
    "dataframe = spark.read.csv(\"hdfs://spark-master:9000/datasets/taxi/yellow_tripdata_2016-03.csv\", header=True, inferSchema=True)\n",
    "num_linhas = dataframe.count()\n",
    "print(f\"Número de linhas no DataFrame: {num_linhas}\")\n",
    "\n",
    "# 70% do dataset para rodar no computador\n",
    "dataframe_sample = dataframe.sample(fraction=0.7, seed=3)\n",
    "print(f\"Número de linhas no DataFrame Sample: {dataframe_sample.count()}\")"
   ]
  },
  {
   "cell_type": "markdown",
   "id": "428bebcf",
   "metadata": {},
   "source": [
    "## Análise Exploratória de Dados (EDA)"
   ]
  },
  {
   "cell_type": "code",
   "execution_count": 4,
   "id": "f02c0ca8-4c5c-4da8-9ffe-401f6aa65feb",
   "metadata": {},
   "outputs": [
    {
     "name": "stdout",
     "output_type": "stream",
     "text": [
      "root\n",
      " |-- VendorID: integer (nullable = true)\n",
      " |-- tpep_pickup_datetime: timestamp (nullable = true)\n",
      " |-- tpep_dropoff_datetime: timestamp (nullable = true)\n",
      " |-- passenger_count: integer (nullable = true)\n",
      " |-- trip_distance: double (nullable = true)\n",
      " |-- pickup_longitude: double (nullable = true)\n",
      " |-- pickup_latitude: double (nullable = true)\n",
      " |-- RatecodeID: integer (nullable = true)\n",
      " |-- store_and_fwd_flag: string (nullable = true)\n",
      " |-- dropoff_longitude: double (nullable = true)\n",
      " |-- dropoff_latitude: double (nullable = true)\n",
      " |-- payment_type: integer (nullable = true)\n",
      " |-- fare_amount: double (nullable = true)\n",
      " |-- extra: double (nullable = true)\n",
      " |-- mta_tax: double (nullable = true)\n",
      " |-- tip_amount: double (nullable = true)\n",
      " |-- tolls_amount: double (nullable = true)\n",
      " |-- improvement_surcharge: double (nullable = true)\n",
      " |-- total_amount: double (nullable = true)\n",
      "\n"
     ]
    }
   ],
   "source": [
    "# Visualizando o esquema dos dados\n",
    "dataframe_sample.printSchema()"
   ]
  },
  {
   "cell_type": "markdown",
   "id": "7ef4a100-d598-491c-b090-b1e18f7fead9",
   "metadata": {},
   "source": [
    "Para melhor entendimento do dataset:\n",
    "\n",
    "- **VendorID:** Código que indica o TPEP (Taxicab Technology Service Provider) que forneceu o registro. (1= Creative Mobile Technologies, LLC; 2= VeriFone Inc).\n",
    "- **tpep_pickup_datetime:** Data e hora em que o medidor foi ativado.\n",
    "- **tpep_dropoff_datetime:** Data e hora em que o medidor foi desativado.\n",
    "- **passenger_count:** O número de passageiros no veículo. Este é um valor inserido pelo condutor.\n",
    "- **trip_distance:** A distância percorrida na viagem em milhas, informada pelo taxímetro.\n",
    "- **pickup_longitude:** Longitude inicial.\n",
    "- **pickup_latitude:** Latitude inicial.\n",
    "- **RatecodeID:** O código da taxa final em vigor ao final da viagem. 1 = Taxa padrão, 2 = JFK, 3 = Newark, 4 = Nassau ou Westchester, 5 = Valor negociado, 6 = Corrida de grupo.\n",
    "- **store_and_fwd_flag:** Esse sinalizador indica se o registro da corrida foi mantido na memória do veículo antes de ser enviado ao fornecedor, também conhecido como \"armazenar e encaminhar\", porque o veículo não tinha uma conexão com o servidor. Y = armazenar e encaminhar corrida, N = não armazenar e encaminhar corrida.\n",
    "- **dropoff_longitude:** Longitude final.\n",
    "- **dropoff_latitude:** Latitude final.\n",
    "- **payment_type:** Um código numérico que indica como o passageiro pagou pela viagem. 1= Cartão de crédito, 2= Em dinheiro, 3= Sem cobrança, 4= Disputa, 5= Desconhecido, 6= Viagem anulada.\n",
    "- **fare_amount:** A taxa de tempo e distância calculada pelo medidor.\n",
    "- **extra:** Extras e taxas adicionais diversas. No momento, inclui somente as cobranças de US\\\\$ 0,50 e US\\$ 1,00 na hora do rush e pernoite.\n",
    "- **mta_tax:** Taxa de MTA (Metropolitan Transportation Authority) de US\\$ 0,50 automaticamente acionada com base na taxa medida em uso.\n",
    "- **tip_amount:** Este campo é preenchido automaticamente com as gorjetas de cartão de crédito. Gorjetas em dinheiro não são incluídas.\n",
    "- **tolls_amount:** Valor total de todos os pedágios pagos na viagem.\n",
    "- **improvement_surcharge:** Taxa adicional de melhoria de US$ 0,30 avaliada em viagens na troca de bandeira. A taxa adicional de melhoria começou a ser cobrada em 2015.\n",
    "- **total_amount:** O valor total cobrado aos passageiros. Não inclui gorjetas em dinheiro.\n"
   ]
  },
  {
   "cell_type": "code",
   "execution_count": 5,
   "id": "98a30a7d-7fce-436c-9c6d-7050a31dbe7c",
   "metadata": {},
   "outputs": [
    {
     "name": "stderr",
     "output_type": "stream",
     "text": [
      "[Stage 10:>                                                         (0 + 1) / 1]\r"
     ]
    },
    {
     "name": "stdout",
     "output_type": "stream",
     "text": [
      "-RECORD 0-------------------------------------\n",
      " summary               | count                \n",
      " VendorID              | 8546588              \n",
      " passenger_count       | 8546588              \n",
      " trip_distance         | 8546588              \n",
      " pickup_longitude      | 8546588              \n",
      " pickup_latitude       | 8546588              \n",
      " RatecodeID            | 8546588              \n",
      " store_and_fwd_flag    | 8546588              \n",
      " dropoff_longitude     | 8546588              \n",
      " dropoff_latitude      | 8546588              \n",
      " payment_type          | 8546588              \n",
      " fare_amount           | 8546588              \n",
      " extra                 | 8546588              \n",
      " mta_tax               | 8546588              \n",
      " tip_amount            | 8546588              \n",
      " tolls_amount          | 8546588              \n",
      " improvement_surcharge | 8546588              \n",
      " total_amount          | 8546588              \n",
      "-RECORD 1-------------------------------------\n",
      " summary               | mean                 \n",
      " VendorID              | 1.5305298441904536   \n",
      " passenger_count       | 1.6597577887222363   \n",
      " trip_distance         | 4.15993894054566     \n",
      " pickup_longitude      | -72.86853037352815   \n",
      " pickup_latitude       | 40.14195524703888    \n",
      " RatecodeID            | 1.0405120733560573   \n",
      " store_and_fwd_flag    | null                 \n",
      " dropoff_longitude     | -72.93520866921507   \n",
      " dropoff_latitude      | 40.17964044389975    \n",
      " payment_type          | 1.3408963904659965   \n",
      " fare_amount           | 12.787266259939006   \n",
      " extra                 | 0.34545774407283936  \n",
      " mta_tax               | 0.4976463648417356   \n",
      " tip_amount            | 1.7922203492196562   \n",
      " tolls_amount          | 0.3148760721822408   \n",
      " improvement_surcharge | 0.2997194131735774   \n",
      " total_amount          | 16.03717500123564    \n",
      "-RECORD 2-------------------------------------\n",
      " summary               | stddev               \n",
      " VendorID              | 0.4990670874302303   \n",
      " passenger_count       | 1.3125362271470467   \n",
      " trip_distance         | 1855.0202025398376   \n",
      " pickup_longitude      | 8.975360095483133    \n",
      " pickup_latitude       | 4.944157278516049    \n",
      " RatecodeID            | 0.594681702138101    \n",
      " store_and_fwd_flag    | null                 \n",
      " dropoff_longitude     | 8.703435357159092    \n",
      " dropoff_latitude      | 4.7944870187417115   \n",
      " payment_type          | 0.49032243426465716  \n",
      " fare_amount           | 147.3146519084742    \n",
      " extra                 | 0.4555832389987282   \n",
      " mta_tax               | 0.04858488224106413  \n",
      " tip_amount            | 2.523712059352001    \n",
      " tolls_amount          | 1.6610723646477894   \n",
      " improvement_surcharge | 0.012326936002027916 \n",
      " total_amount          | 147.55010279056577   \n",
      "-RECORD 3-------------------------------------\n",
      " summary               | min                  \n",
      " VendorID              | 1                    \n",
      " passenger_count       | 0                    \n",
      " trip_distance         | 0.0                  \n",
      " pickup_longitude      | -161.69866943359375  \n",
      " pickup_latitude       | 0.0                  \n",
      " RatecodeID            | 1                    \n",
      " store_and_fwd_flag    | N                    \n",
      " dropoff_longitude     | -121.93348693847656  \n",
      " dropoff_latitude      | 0.0                  \n",
      " payment_type          | 1                    \n",
      " fare_amount           | -376.0               \n",
      " extra                 | -41.7                \n",
      " mta_tax               | -1.0                 \n",
      " tip_amount            | -16.7                \n",
      " tolls_amount          | -16.04               \n",
      " improvement_surcharge | -0.3                 \n",
      " total_amount          | -376.3               \n",
      "-RECORD 4-------------------------------------\n",
      " summary               | 25%                  \n",
      " VendorID              | 1                    \n",
      " passenger_count       | 1                    \n",
      " trip_distance         | 1.0                  \n",
      " pickup_longitude      | -73.99174499511719   \n",
      " pickup_latitude       | 40.736305236816406   \n",
      " RatecodeID            | 1                    \n",
      " store_and_fwd_flag    | null                 \n",
      " dropoff_longitude     | -73.99124908447266   \n",
      " dropoff_latitude      | 40.73463439941406    \n",
      " payment_type          | 1                    \n",
      " fare_amount           | 6.5                  \n",
      " extra                 | 0.0                  \n",
      " mta_tax               | 0.5                  \n",
      " tip_amount            | 0.0                  \n",
      " tolls_amount          | 0.0                  \n",
      " improvement_surcharge | 0.3                  \n",
      " total_amount          | 8.75                 \n",
      "-RECORD 5-------------------------------------\n",
      " summary               | 50%                  \n",
      " VendorID              | 2                    \n",
      " passenger_count       | 1                    \n",
      " trip_distance         | 1.7                  \n",
      " pickup_longitude      | -73.98161315917969   \n",
      " pickup_latitude       | 40.75325012207031    \n",
      " RatecodeID            | 1                    \n",
      " store_and_fwd_flag    | null                 \n",
      " dropoff_longitude     | -73.97960662841797   \n",
      " dropoff_latitude      | 40.753753662109375   \n",
      " payment_type          | 1                    \n",
      " fare_amount           | 9.5                  \n",
      " extra                 | 0.0                  \n",
      " mta_tax               | 0.5                  \n",
      " tip_amount            | 1.35                 \n",
      " tolls_amount          | 0.0                  \n",
      " improvement_surcharge | 0.3                  \n",
      " total_amount          | 11.8                 \n",
      "-RECORD 6-------------------------------------\n",
      " summary               | 75%                  \n",
      " VendorID              | 2                    \n",
      " passenger_count       | 2                    \n",
      " trip_distance         | 3.18                 \n",
      " pickup_longitude      | -73.9667739868164    \n",
      " pickup_latitude       | 40.767642974853516   \n",
      " RatecodeID            | 1                    \n",
      " store_and_fwd_flag    | null                 \n",
      " dropoff_longitude     | -73.9622802734375    \n",
      " dropoff_latitude      | 40.769100189208984   \n",
      " payment_type          | 2                    \n",
      " fare_amount           | 14.5                 \n",
      " extra                 | 0.5                  \n",
      " mta_tax               | 0.5                  \n",
      " tip_amount            | 2.36                 \n",
      " tolls_amount          | 0.0                  \n",
      " improvement_surcharge | 0.3                  \n",
      " total_amount          | 17.76                \n",
      "-RECORD 7-------------------------------------\n",
      " summary               | max                  \n",
      " VendorID              | 2                    \n",
      " passenger_count       | 9                    \n",
      " trip_distance         | 5000000.0            \n",
      " pickup_longitude      | 0.0                  \n",
      " pickup_latitude       | 66.85681915283203    \n",
      " RatecodeID            | 99                   \n",
      " store_and_fwd_flag    | Y                    \n",
      " dropoff_longitude     | 0.0                  \n",
      " dropoff_latitude      | 50.7978630065918     \n",
      " payment_type          | 4                    \n",
      " fare_amount           | 429496.72            \n",
      " extra                 | 80.0                 \n",
      " mta_tax               | 79.3                 \n",
      " tip_amount            | 440.25               \n",
      " tolls_amount          | 915.0                \n",
      " improvement_surcharge | 0.3                  \n",
      " total_amount          | 429562.25            \n",
      "\n"
     ]
    },
    {
     "name": "stderr",
     "output_type": "stream",
     "text": [
      "                                                                                \r"
     ]
    }
   ],
   "source": [
    "# Exibindo algumas informações dos atributos\n",
    "dataframe_sample.summary().show(truncate=False, vertical=True)"
   ]
  },
  {
   "cell_type": "code",
   "execution_count": 6,
   "id": "b483b503-606c-4adb-94a5-3942e7170b18",
   "metadata": {},
   "outputs": [
    {
     "name": "stdout",
     "output_type": "stream",
     "text": [
      "-RECORD 0------------------------------------\n",
      " VendorID              | 1                   \n",
      " tpep_pickup_datetime  | 2016-03-01 00:00:00 \n",
      " tpep_dropoff_datetime | 2016-03-01 00:07:55 \n",
      " passenger_count       | 1                   \n",
      " trip_distance         | 2.5                 \n",
      " pickup_longitude      | -73.97674560546875  \n",
      " pickup_latitude       | 40.76515197753906   \n",
      " RatecodeID            | 1                   \n",
      " store_and_fwd_flag    | N                   \n",
      " dropoff_longitude     | -74.00426483154297  \n",
      " dropoff_latitude      | 40.74612808227539   \n",
      " payment_type          | 1                   \n",
      " fare_amount           | 9.0                 \n",
      " extra                 | 0.5                 \n",
      " mta_tax               | 0.5                 \n",
      " tip_amount            | 2.05                \n",
      " tolls_amount          | 0.0                 \n",
      " improvement_surcharge | 0.3                 \n",
      " total_amount          | 12.35               \n",
      "-RECORD 1------------------------------------\n",
      " VendorID              | 1                   \n",
      " tpep_pickup_datetime  | 2016-03-01 00:00:00 \n",
      " tpep_dropoff_datetime | 2016-03-01 00:11:06 \n",
      " passenger_count       | 1                   \n",
      " trip_distance         | 2.9                 \n",
      " pickup_longitude      | -73.98348236083984  \n",
      " pickup_latitude       | 40.76792526245117   \n",
      " RatecodeID            | 1                   \n",
      " store_and_fwd_flag    | N                   \n",
      " dropoff_longitude     | -74.00594329833984  \n",
      " dropoff_latitude      | 40.7331657409668    \n",
      " payment_type          | 1                   \n",
      " fare_amount           | 11.0                \n",
      " extra                 | 0.5                 \n",
      " mta_tax               | 0.5                 \n",
      " tip_amount            | 3.05                \n",
      " tolls_amount          | 0.0                 \n",
      " improvement_surcharge | 0.3                 \n",
      " total_amount          | 15.35               \n",
      "-RECORD 2------------------------------------\n",
      " VendorID              | 2                   \n",
      " tpep_pickup_datetime  | 2016-03-01 00:00:00 \n",
      " tpep_dropoff_datetime | 2016-03-01 00:31:06 \n",
      " passenger_count       | 2                   \n",
      " trip_distance         | 19.98               \n",
      " pickup_longitude      | -73.78202056884766  \n",
      " pickup_latitude       | 40.64480972290039   \n",
      " RatecodeID            | 1                   \n",
      " store_and_fwd_flag    | N                   \n",
      " dropoff_longitude     | -73.97454071044922  \n",
      " dropoff_latitude      | 40.6757698059082    \n",
      " payment_type          | 1                   \n",
      " fare_amount           | 54.5                \n",
      " extra                 | 0.5                 \n",
      " mta_tax               | 0.5                 \n",
      " tip_amount            | 8.0                 \n",
      " tolls_amount          | 0.0                 \n",
      " improvement_surcharge | 0.3                 \n",
      " total_amount          | 63.8                \n",
      "-RECORD 3------------------------------------\n",
      " VendorID              | 2                   \n",
      " tpep_pickup_datetime  | 2016-03-01 00:00:00 \n",
      " tpep_dropoff_datetime | 2016-03-01 00:00:00 \n",
      " passenger_count       | 3                   \n",
      " trip_distance         | 10.78               \n",
      " pickup_longitude      | -73.86341857910156  \n",
      " pickup_latitude       | 40.769813537597656  \n",
      " RatecodeID            | 1                   \n",
      " store_and_fwd_flag    | N                   \n",
      " dropoff_longitude     | -73.96965026855469  \n",
      " dropoff_latitude      | 40.75776672363281   \n",
      " payment_type          | 1                   \n",
      " fare_amount           | 31.5                \n",
      " extra                 | 0.0                 \n",
      " mta_tax               | 0.5                 \n",
      " tip_amount            | 3.78                \n",
      " tolls_amount          | 5.54                \n",
      " improvement_surcharge | 0.3                 \n",
      " total_amount          | 41.62               \n",
      "-RECORD 4------------------------------------\n",
      " VendorID              | 2                   \n",
      " tpep_pickup_datetime  | 2016-03-01 00:00:00 \n",
      " tpep_dropoff_datetime | 2016-03-01 00:00:00 \n",
      " passenger_count       | 5                   \n",
      " trip_distance         | 30.43               \n",
      " pickup_longitude      | -73.97174072265625  \n",
      " pickup_latitude       | 40.79218292236328   \n",
      " RatecodeID            | 3                   \n",
      " store_and_fwd_flag    | N                   \n",
      " dropoff_longitude     | -74.17716979980469  \n",
      " dropoff_latitude      | 40.69505310058594   \n",
      " payment_type          | 1                   \n",
      " fare_amount           | 98.0                \n",
      " extra                 | 0.0                 \n",
      " mta_tax               | 0.0                 \n",
      " tip_amount            | 0.0                 \n",
      " tolls_amount          | 15.5                \n",
      " improvement_surcharge | 0.3                 \n",
      " total_amount          | 113.8               \n",
      "only showing top 5 rows\n",
      "\n"
     ]
    }
   ],
   "source": [
    "# Mostrando as primeiras linhas do DataFrame\n",
    "dataframe.show(n=5, truncate=False, vertical=True)"
   ]
  },
  {
   "cell_type": "code",
   "execution_count": 7,
   "id": "43cf2a54-0283-4358-bd7c-6f2db3bee5f5",
   "metadata": {},
   "outputs": [
    {
     "name": "stderr",
     "output_type": "stream",
     "text": [
      "                                                                                \r"
     ]
    },
    {
     "data": {
      "text/plain": [
       "{'VendorID': 0,\n",
       " 'tpep_pickup_datetime': 0,\n",
       " 'tpep_dropoff_datetime': 0,\n",
       " 'passenger_count': 0,\n",
       " 'trip_distance': 0,\n",
       " 'pickup_longitude': 0,\n",
       " 'pickup_latitude': 0,\n",
       " 'RatecodeID': 0,\n",
       " 'store_and_fwd_flag': 0,\n",
       " 'dropoff_longitude': 0,\n",
       " 'dropoff_latitude': 0,\n",
       " 'payment_type': 0,\n",
       " 'fare_amount': 0,\n",
       " 'extra': 0,\n",
       " 'mta_tax': 0,\n",
       " 'tip_amount': 0,\n",
       " 'tolls_amount': 0,\n",
       " 'improvement_surcharge': 0,\n",
       " 'total_amount': 0}"
      ]
     },
     "execution_count": 7,
     "metadata": {},
     "output_type": "execute_result"
    }
   ],
   "source": [
    "# Checagem por dados nulos\n",
    "Dict_Null = {col:dataframe_sample.filter(dataframe_sample[col].isNull()).count() for col in dataframe_sample.columns}\n",
    "Dict_Null"
   ]
  },
  {
   "cell_type": "markdown",
   "id": "fa29f1a7-72e9-4c17-8e07-0c210fccde47",
   "metadata": {},
   "source": [
    "**Pudemos visualizar que não existem dados nulos no dataset.**"
   ]
  },
  {
   "cell_type": "markdown",
   "id": "780e1234",
   "metadata": {},
   "source": [
    "## Pré-processamento"
   ]
  },
  {
   "cell_type": "code",
   "execution_count": 8,
   "id": "a904cb33-f5b6-47f4-92e1-0d339be65cf3",
   "metadata": {},
   "outputs": [
    {
     "name": "stdout",
     "output_type": "stream",
     "text": [
      "Nome das colunas:\n",
      "passenger_count\n",
      "trip_distance\n",
      "store_and_fwd_flag\n",
      "payment_type\n",
      "fare_amount\n",
      "extra\n",
      "mta_tax\n",
      "tip_amount\n",
      "tolls_amount\n",
      "improvement_surcharge\n",
      "total_amount\n",
      "duration_hours\n"
     ]
    }
   ],
   "source": [
    "# Criar coluna de duração da viagem em horas e remover colunas de datetime\n",
    "dataframe_sample = dataframe_sample.withColumn(\n",
    "    \"duration_hours\",\n",
    "    (unix_timestamp(\"tpep_dropoff_datetime\") - unix_timestamp(\"tpep_pickup_datetime\")) / 3600\n",
    ")\n",
    "\n",
    "# Transformar coluna para númerico\n",
    "dataframe_sample = dataframe_sample.withColumn(\"store_and_fwd_flag\", when(col(\"store_and_fwd_flag\") == 'Y', 1).otherwise(0))\n",
    "\n",
    "colunas_para_remover = [\n",
    "    'tpep_pickup_datetime',\n",
    "    'tpep_dropoff_datetime',\n",
    "    'VendorID',\n",
    "    'RatecodeID',\n",
    "    'pickup_longitude',\n",
    "    'pickup_latitude',\n",
    "    'dropoff_longitude', \n",
    "    'dropoff_latitude',\n",
    "]\n",
    "\n",
    "dataframe_pre_processamento = dataframe_sample.drop(*colunas_para_remover)\n",
    "\n",
    "# Mostrar somente o nome das colunas\n",
    "print(\"Nome das colunas:\")\n",
    "for coluna in dataframe_pre_processamento.columns:\n",
    "    print(coluna)\n"
   ]
  },
  {
   "cell_type": "markdown",
   "id": "0487de07-02d5-4b4b-9937-5659594cebee",
   "metadata": {},
   "source": [
    "**Transformamos as colunas:**\n",
    "- Datetime de inicio e fim da viagem se transformou em uma coluna de duração da viagem\n",
    "- Coluna \"store_and_fwd_flag\" foi convertida para inteiro (0 ou 1)\n",
    "\n",
    "**Removemos as colunas:**\n",
    "- tpep_pickup_datetime\n",
    "- tpep_dropoff_datetime\n",
    "- VendorID\n",
    "- RatecodeID\n",
    "- pickup_longitude\n",
    "- pickup_latitude\n",
    "- dropoff_longitude\n",
    "- dropoff_latitude\n",
    "\n",
    "Todas essas colunas removidas não possuem muita relação com o valor da gorjeta, são mais relacionadas a localização e classes mais especificas de regras de taxa dos serviços de taxi de Nova Iorque, por isso foram removidas."
   ]
  },
  {
   "cell_type": "code",
   "execution_count": 9,
   "id": "c6ccf842-666e-4f07-bd72-15ed7bf40a66",
   "metadata": {},
   "outputs": [
    {
     "name": "stderr",
     "output_type": "stream",
     "text": [
      "[Stage 73:>                                                       (0 + 16) / 16]\r"
     ]
    },
    {
     "name": "stdout",
     "output_type": "stream",
     "text": [
      "24/05/04 22:35:12 WARN InstanceBuilder$NativeBLAS: Failed to load implementation from:dev.ludovic.netlib.blas.JNIBLAS\n",
      "24/05/04 22:35:12 WARN InstanceBuilder$NativeBLAS: Failed to load implementation from:dev.ludovic.netlib.blas.ForeignLinkerBLAS\n"
     ]
    },
    {
     "name": "stderr",
     "output_type": "stream",
     "text": [
      "                                                                                \r"
     ]
    },
    {
     "name": "stdout",
     "output_type": "stream",
     "text": [
      "-RECORD 0---------------------------------------\n",
      " passenger_count       | 1.0                    \n",
      " trip_distance         | -1.9434082309276876E-4 \n",
      " store_and_fwd_flag    | -0.022351120635306858  \n",
      " payment_type          | 0.01325748102735124    \n",
      " fare_amount           | 7.270773640208358E-4   \n",
      " extra                 | 0.0020851410589041446  \n",
      " mta_tax               | 0.0041108918603492434  \n",
      " tip_amount            | -0.004537185300146029  \n",
      " tolls_amount          | 0.009392007497496913   \n",
      " improvement_surcharge | -0.0027860965125029516 \n",
      " total_amount          | 7.615937495781594E-4   \n",
      " duration_hours        | 0.006870709087024202   \n",
      "-RECORD 1---------------------------------------\n",
      " passenger_count       | -1.9434082309276876E-4 \n",
      " trip_distance         | 1.0                    \n",
      " store_and_fwd_flag    | 3.3612935466174053E-6  \n",
      " payment_type          | -9.10713706379388E-5   \n",
      " fare_amount           | 1.5084119351689823E-4  \n",
      " extra                 | 5.779455703506908E-5   \n",
      " mta_tax               | -1.3061827767254395E-5 \n",
      " tip_amount            | 0.0024783079449554623  \n",
      " tolls_amount          | 0.0019636599805837943  \n",
      " improvement_surcharge | -7.673513880132207E-4  \n",
      " total_amount          | 2.1520571600995656E-4  \n",
      " duration_hours        | 1.5851345616201923E-4  \n",
      "-RECORD 2---------------------------------------\n",
      " passenger_count       | -0.022351120635306858  \n",
      " trip_distance         | 3.3612935466174053E-6  \n",
      " store_and_fwd_flag    | 1.0                    \n",
      " payment_type          | 0.012940987992635654   \n",
      " fare_amount           | 0.0019664390839356657  \n",
      " extra                 | 0.002481804081779791   \n",
      " mta_tax               | -0.005841342449099048  \n",
      " tip_amount            | 0.010309671905416422   \n",
      " tolls_amount          | 0.03128690846184575    \n",
      " improvement_surcharge | -0.0023888490128176013 \n",
      " total_amount          | 0.002497402561936579   \n",
      " duration_hours        | -0.010844016836578903  \n",
      "-RECORD 3---------------------------------------\n",
      " passenger_count       | 0.01325748102735124    \n",
      " trip_distance         | -9.10713706379388E-5   \n",
      " store_and_fwd_flag    | 0.012940987992635654   \n",
      " payment_type          | 1.0                    \n",
      " fare_amount           | -0.004281532344121585  \n",
      " extra                 | -0.016340945993967015  \n",
      " mta_tax               | -0.030939403768995583  \n",
      " tip_amount            | -0.4936997449942371    \n",
      " tolls_amount          | -0.03523209550317332   \n",
      " improvement_surcharge | -0.07414050557632221   \n",
      " total_amount          | -0.013182558662395222  \n",
      " duration_hours        | -0.0023200401515769712 \n",
      "-RECORD 4---------------------------------------\n",
      " passenger_count       | 7.270773640208358E-4   \n",
      " trip_distance         | 1.5084119351689823E-4  \n",
      " store_and_fwd_flag    | 0.0019664390839356657  \n",
      " payment_type          | -0.004281532344121585  \n",
      " fare_amount           | 1.0                    \n",
      " extra                 | 0.05451227564741826    \n",
      " mta_tax               | -0.01484469683450665   \n",
      " tip_amount            | 0.04194179793408243    \n",
      " tolls_amount          | 0.037825635212135535   \n",
      " improvement_surcharge | -0.0055793597185199145 \n",
      " total_amount          | 0.9997104379492086     \n",
      " duration_hours        | 0.0057966555161196014  \n",
      "-RECORD 5---------------------------------------\n",
      " passenger_count       | 0.0020851410589041446  \n",
      " trip_distance         | 5.779455703506908E-5   \n",
      " store_and_fwd_flag    | 0.002481804081779791   \n",
      " payment_type          | -0.016340945993967015  \n",
      " fare_amount           | 0.05451227564741826    \n",
      " extra                 | 1.0                    \n",
      " mta_tax               | 0.024968683578805384   \n",
      " tip_amount            | 0.0631493167086544     \n",
      " tolls_amount          | 0.044501544729541306   \n",
      " improvement_surcharge | 0.03174161139099811    \n",
      " total_amount          | 0.05910496756177949    \n",
      " duration_hours        | 0.009294518845771463   \n",
      "-RECORD 6---------------------------------------\n",
      " passenger_count       | 0.0041108918603492434  \n",
      " trip_distance         | -1.3061827767254395E-5 \n",
      " store_and_fwd_flag    | -0.005841342449099048  \n",
      " payment_type          | -0.030939403768995583  \n",
      " fare_amount           | -0.01484469683450665   \n",
      " extra                 | 0.024968683578805384   \n",
      " mta_tax               | 1.0                    \n",
      " tip_amount            | -0.09470150164926933   \n",
      " tolls_amount          | -0.16928908884712748   \n",
      " improvement_surcharge | 0.395155118358508      \n",
      " total_amount          | -0.01790707169986019   \n",
      " duration_hours        | -0.0027024929023752513 \n",
      "-RECORD 7---------------------------------------\n",
      " passenger_count       | -0.004537185300146029  \n",
      " trip_distance         | 0.0024783079449554623  \n",
      " store_and_fwd_flag    | 0.010309671905416422   \n",
      " payment_type          | -0.4936997449942371    \n",
      " fare_amount           | 0.04194179793408243    \n",
      " extra                 | 0.0631493167086544     \n",
      " mta_tax               | -0.09470150164926933   \n",
      " tip_amount            | 1.0                    \n",
      " tolls_amount          | 0.3745223561745122     \n",
      " improvement_surcharge | 0.014323496550122309   \n",
      " total_amount          | 0.06336027702042096    \n",
      " duration_hours        | 0.03894040069243876    \n",
      "-RECORD 8---------------------------------------\n",
      " passenger_count       | 0.009392007497496913   \n",
      " trip_distance         | 0.0019636599805837943  \n",
      " store_and_fwd_flag    | 0.03128690846184575    \n",
      " payment_type          | -0.03523209550317332   \n",
      " fare_amount           | 0.037825635212135535   \n",
      " extra                 | 0.044501544729541306   \n",
      " mta_tax               | -0.16928908884712748   \n",
      " tip_amount            | 0.3745223561745122     \n",
      " tolls_amount          | 1.0                    \n",
      " improvement_surcharge | 0.004293105970823656   \n",
      " total_amount          | 0.055510709619400654   \n",
      " duration_hours        | 0.034713009911245984   \n",
      "-RECORD 9---------------------------------------\n",
      " passenger_count       | -0.0027860965125029516 \n",
      " trip_distance         | -7.673513880132207E-4  \n",
      " store_and_fwd_flag    | -0.0023888490128176013 \n",
      " payment_type          | -0.07414050557632221   \n",
      " fare_amount           | -0.0055793597185199145 \n",
      " extra                 | 0.03174161139099811    \n",
      " mta_tax               | 0.395155118358508      \n",
      " tip_amount            | 0.014323496550122309   \n",
      " tolls_amount          | 0.004293105970823656   \n",
      " improvement_surcharge | 1.0                    \n",
      " total_amount          | -0.004965493790402274  \n",
      " duration_hours        | 8.996932450632631E-4   \n",
      "-RECORD 10--------------------------------------\n",
      " passenger_count       | 7.615937495781594E-4   \n",
      " trip_distance         | 2.1520571600995656E-4  \n",
      " store_and_fwd_flag    | 0.002497402561936579   \n",
      " payment_type          | -0.013182558662395222  \n",
      " fare_amount           | 0.9997104379492086     \n",
      " extra                 | 0.05910496756177949    \n",
      " mta_tax               | -0.01790707169986019   \n",
      " tip_amount            | 0.06336027702042096    \n",
      " tolls_amount          | 0.055510709619400654   \n",
      " improvement_surcharge | -0.004965493790402274  \n",
      " total_amount          | 1.0                    \n",
      " duration_hours        | 0.00687210798948317    \n",
      "-RECORD 11--------------------------------------\n",
      " passenger_count       | 0.006870709087024202   \n",
      " trip_distance         | 1.5851345616201923E-4  \n",
      " store_and_fwd_flag    | -0.010844016836578903  \n",
      " payment_type          | -0.0023200401515769712 \n",
      " fare_amount           | 0.0057966555161196014  \n",
      " extra                 | 0.009294518845771463   \n",
      " mta_tax               | -0.0027024929023752513 \n",
      " tip_amount            | 0.03894040069243876    \n",
      " tolls_amount          | 0.034713009911245984   \n",
      " improvement_surcharge | 8.996932450632631E-4   \n",
      " total_amount          | 0.00687210798948317    \n",
      " duration_hours        | 1.0                    \n",
      "\n"
     ]
    }
   ],
   "source": [
    "# Correlação\n",
    "assembler = VectorAssembler(inputCols=dataframe_pre_processamento.columns, outputCol=\"features\")\n",
    "dataframe_vetorizado = assembler.transform(dataframe_pre_processamento)\n",
    "\n",
    "correlation = Correlation.corr(dataframe_vetorizado, \"features\", method=\"pearson\").collect()[0][0]\n",
    "\n",
    "rows = correlation.toArray().tolist()\n",
    "spark.createDataFrame(rows,dataframe_pre_processamento.columns).show(n=20, truncate=False, vertical=True)"
   ]
  },
  {
   "cell_type": "code",
   "execution_count": 10,
   "id": "fbba9a77-31e5-47f8-94d1-d208677c35ca",
   "metadata": {},
   "outputs": [],
   "source": [
    "# Criando um vetor de features para os modelos\n",
    "target = 'tip_amount'\n",
    "feature_columns = dataframe_pre_processamento.columns\n",
    "feature_columns.remove(target)\n",
    "\n",
    "vector_assembler = VectorAssembler(inputCols=feature_columns, outputCol=\"features\")\n",
    "dataframe_vetorizado_sem_target = vector_assembler.transform(dataframe_pre_processamento)"
   ]
  },
  {
   "cell_type": "code",
   "execution_count": 11,
   "id": "4153952c-9e45-4373-9298-1e7dffc79a2c",
   "metadata": {},
   "outputs": [],
   "source": [
    "# Dividindo o conjunto de dados em treino e teste\n",
    "train_data, test_data = dataframe_vetorizado_sem_target.randomSplit([0.8, 0.2], seed=3)"
   ]
  },
  {
   "cell_type": "markdown",
   "id": "2b5ecd21",
   "metadata": {},
   "source": [
    "## Regressão linear"
   ]
  },
  {
   "cell_type": "code",
   "execution_count": 12,
   "id": "4c269bf2-97d2-4e27-a28e-905d4f4f2f2e",
   "metadata": {},
   "outputs": [
    {
     "name": "stderr",
     "output_type": "stream",
     "text": [
      "                                                                                \r"
     ]
    },
    {
     "name": "stdout",
     "output_type": "stream",
     "text": [
      "24/05/04 22:35:42 WARN InstanceBuilder$NativeLAPACK: Failed to load implementation from:dev.ludovic.netlib.lapack.JNILAPACK\n"
     ]
    },
    {
     "name": "stderr",
     "output_type": "stream",
     "text": [
      "                                                                                \r"
     ]
    }
   ],
   "source": [
    "regressor = LinearRegression(featuresCol = 'features', labelCol = 'tip_amount', loss='squaredError', maxIter=500, regParam = 0.05)\n",
    "regressor = regressor.fit(train_data)"
   ]
  },
  {
   "cell_type": "code",
   "execution_count": 13,
   "id": "f01c6ebb-58d0-448f-bfd3-400ac9901ca2",
   "metadata": {},
   "outputs": [
    {
     "name": "stderr",
     "output_type": "stream",
     "text": [
      "[Stage 84:>                                                         (0 + 1) / 1]\r"
     ]
    },
    {
     "name": "stdout",
     "output_type": "stream",
     "text": [
      "-RECORD 0------------------------------------------------------------------------------\n",
      " passenger_count       | 0                                                             \n",
      " trip_distance         | 0.0                                                           \n",
      " store_and_fwd_flag    | 0                                                             \n",
      " payment_type          | 1                                                             \n",
      " fare_amount           | 18.5                                                          \n",
      " extra                 | 0.0                                                           \n",
      " mta_tax               | 0.5                                                           \n",
      " tip_amount            | 2.0                                                           \n",
      " tolls_amount          | 0.0                                                           \n",
      " improvement_surcharge | 0.3                                                           \n",
      " total_amount          | 21.3                                                          \n",
      " duration_hours        | 0.005                                                         \n",
      " features              | (11,[3,4,6,8,9,10],[1.0,18.5,0.5,0.3,21.3,0.005])             \n",
      " prediction            | 2.372102354980008                                             \n",
      "-RECORD 1------------------------------------------------------------------------------\n",
      " passenger_count       | 0                                                             \n",
      " trip_distance         | 0.0                                                           \n",
      " store_and_fwd_flag    | 0                                                             \n",
      " payment_type          | 1                                                             \n",
      " fare_amount           | 75.0                                                          \n",
      " extra                 | 0.0                                                           \n",
      " mta_tax               | 0.0                                                           \n",
      " tip_amount            | 0.0                                                           \n",
      " tolls_amount          | 0.0                                                           \n",
      " improvement_surcharge | 0.0                                                           \n",
      " total_amount          | 75.0                                                          \n",
      " duration_hours        | 0.0                                                           \n",
      " features              | (11,[3,4,9],[1.0,75.0,75.0])                                  \n",
      " prediction            | 3.8818505345694403                                            \n",
      "-RECORD 2------------------------------------------------------------------------------\n",
      " passenger_count       | 0                                                             \n",
      " trip_distance         | 0.0                                                           \n",
      " store_and_fwd_flag    | 0                                                             \n",
      " payment_type          | 2                                                             \n",
      " fare_amount           | 52.0                                                          \n",
      " extra                 | 4.5                                                           \n",
      " mta_tax               | 0.5                                                           \n",
      " tip_amount            | 0.0                                                           \n",
      " tolls_amount          | 0.0                                                           \n",
      " improvement_surcharge | 0.3                                                           \n",
      " total_amount          | 57.3                                                          \n",
      " duration_hours        | 6.721111111111111                                             \n",
      " features              | [0.0,0.0,0.0,2.0,52.0,4.5,0.5,0.0,0.3,57.3,6.721111111111111] \n",
      " prediction            | 1.0769802499032535                                            \n",
      "-RECORD 3------------------------------------------------------------------------------\n",
      " passenger_count       | 0                                                             \n",
      " trip_distance         | 0.0                                                           \n",
      " store_and_fwd_flag    | 0                                                             \n",
      " payment_type          | 4                                                             \n",
      " fare_amount           | 0.01                                                          \n",
      " extra                 | 0.0                                                           \n",
      " mta_tax               | 0.0                                                           \n",
      " tip_amount            | 0.0                                                           \n",
      " tolls_amount          | 0.0                                                           \n",
      " improvement_surcharge | 0.3                                                           \n",
      " total_amount          | 0.31                                                          \n",
      " duration_hours        | 0.025555555555555557                                          \n",
      " features              | (11,[3,4,8,9,10],[4.0,0.01,0.3,0.31,0.025555555555555557])    \n",
      " prediction            | -3.8282189424197997                                           \n",
      "-RECORD 4------------------------------------------------------------------------------\n",
      " passenger_count       | 0                                                             \n",
      " trip_distance         | 0.0                                                           \n",
      " store_and_fwd_flag    | 1                                                             \n",
      " payment_type          | 1                                                             \n",
      " fare_amount           | 6.8                                                           \n",
      " extra                 | 0.0                                                           \n",
      " mta_tax               | 0.0                                                           \n",
      " tip_amount            | 0.0                                                           \n",
      " tolls_amount          | 0.0                                                           \n",
      " improvement_surcharge | 0.0                                                           \n",
      " total_amount          | 6.8                                                           \n",
      " duration_hours        | 4.0                                                           \n",
      " features              | (11,[2,3,4,9,10],[1.0,1.0,6.8,6.8,4.0])                       \n",
      " prediction            | 4.1449876833785                                               \n",
      "only showing top 5 rows\n",
      "\n",
      "MAE: 0.9600585320815276\n",
      "MSE: 3.980793845292277\n",
      "RMSE: 1.995192683750689\n",
      "R2-Score: 0.36964705010674914\n"
     ]
    },
    {
     "name": "stderr",
     "output_type": "stream",
     "text": [
      "                                                                                \r"
     ]
    }
   ],
   "source": [
    "pred_results = regressor.evaluate(test_data)\n",
    "pred_results.predictions.show(n=5, truncate=False, vertical=True)\n",
    "\n",
    "# Printing the results\n",
    "print('MAE:', pred_results.meanAbsoluteError)\n",
    "print('MSE:', pred_results.meanSquaredError)\n",
    "print('RMSE:', pred_results.rootMeanSquaredError)\n",
    "print('R2-Score:', pred_results.r2)"
   ]
  },
  {
   "cell_type": "markdown",
   "id": "f97386f3",
   "metadata": {},
   "source": [
    "### Árvore de decisão"
   ]
  },
  {
   "cell_type": "code",
   "execution_count": 14,
   "id": "8225ae60-125e-48aa-9c46-06b741c336dd",
   "metadata": {},
   "outputs": [
    {
     "name": "stderr",
     "output_type": "stream",
     "text": [
      "[Stage 89:>                                                       (0 + 16) / 16]\r"
     ]
    },
    {
     "name": "stdout",
     "output_type": "stream",
     "text": [
      "24/05/04 22:36:56 WARN MemoryStore: Not enough space to cache rdd_253_15 in memory! (computed 7.8 MiB so far)\n",
      "24/05/04 22:36:56 WARN MemoryStore: Not enough space to cache rdd_253_0 in memory! (computed 3.5 MiB so far)\n",
      "24/05/04 22:36:56 WARN MemoryStore: Not enough space to cache rdd_253_2 in memory! (computed 3.5 MiB so far)\n",
      "24/05/04 22:36:56 WARN MemoryStore: Not enough space to cache rdd_253_6 in memory! (computed 5.2 MiB so far)\n",
      "24/05/04 22:36:56 WARN BlockManager: Persisting block rdd_253_0 to disk instead.\n",
      "24/05/04 22:36:56 WARN BlockManager: Persisting block rdd_253_6 to disk instead.\n",
      "24/05/04 22:36:56 WARN BlockManager: Persisting block rdd_253_2 to disk instead.\n",
      "24/05/04 22:36:56 WARN BlockManager: Persisting block rdd_253_15 to disk instead.\n",
      "24/05/04 22:36:56 WARN MemoryStore: Not enough space to cache rdd_253_11 in memory! (computed 1024.6 KiB so far)\n",
      "24/05/04 22:36:56 WARN BlockManager: Persisting block rdd_253_11 to disk instead.\n",
      "24/05/04 22:36:56 WARN MemoryStore: Not enough space to cache rdd_253_14 in memory! (computed 1024.6 KiB so far)\n",
      "24/05/04 22:36:56 WARN MemoryStore: Not enough space to cache rdd_253_13 in memory! (computed 1024.6 KiB so far)\n",
      "24/05/04 22:36:56 WARN MemoryStore: Not enough space to cache rdd_253_1 in memory! (computed 1024.6 KiB so far)\n",
      "24/05/04 22:36:56 WARN BlockManager: Persisting block rdd_253_13 to disk instead.\n",
      "24/05/04 22:36:56 WARN BlockManager: Persisting block rdd_253_1 to disk instead.\n",
      "24/05/04 22:36:56 WARN MemoryStore: Not enough space to cache rdd_253_9 in memory! (computed 2.3 MiB so far)\n",
      "24/05/04 22:36:56 WARN BlockManager: Persisting block rdd_253_14 to disk instead.\n",
      "24/05/04 22:36:56 WARN BlockManager: Persisting block rdd_253_9 to disk instead.\n",
      "24/05/04 22:36:58 WARN MemoryStore: Not enough space to cache rdd_253_5 in memory! (computed 1538.7 KiB so far)\n",
      "24/05/04 22:36:58 WARN BlockManager: Persisting block rdd_253_5 to disk instead.\n",
      "24/05/04 22:36:58 WARN MemoryStore: Not enough space to cache rdd_253_8 in memory! (computed 7.8 MiB so far)\n",
      "24/05/04 22:36:58 WARN BlockManager: Persisting block rdd_253_8 to disk instead.\n",
      "24/05/04 22:36:58 WARN MemoryStore: Not enough space to cache rdd_253_4 in memory! (computed 12.0 MiB so far)\n",
      "24/05/04 22:36:58 WARN BlockManager: Persisting block rdd_253_4 to disk instead.\n",
      "24/05/04 22:36:58 WARN MemoryStore: Not enough space to cache rdd_253_12 in memory! (computed 7.8 MiB so far)\n",
      "24/05/04 22:36:58 WARN BlockManager: Persisting block rdd_253_12 to disk instead.\n",
      "24/05/04 22:37:01 WARN MemoryStore: Not enough space to cache rdd_253_7 in memory! (computed 27.9 MiB so far)\n",
      "24/05/04 22:37:01 WARN BlockManager: Persisting block rdd_253_7 to disk instead.\n",
      "24/05/04 22:37:01 WARN MemoryStore: Not enough space to cache rdd_253_3 in memory! (computed 27.9 MiB so far)\n",
      "24/05/04 22:37:01 WARN BlockManager: Persisting block rdd_253_3 to disk instead.\n",
      "24/05/04 22:37:02 WARN MemoryStore: Not enough space to cache rdd_253_10 in memory! (computed 18.6 MiB so far)\n",
      "24/05/04 22:37:02 WARN BlockManager: Persisting block rdd_253_10 to disk instead.\n",
      "24/05/04 22:37:07 WARN MemoryStore: Not enough space to cache rdd_253_11 in memory! (computed 28.9 MiB so far)\n",
      "24/05/04 22:37:07 WARN MemoryStore: Not enough space to cache rdd_253_5 in memory! (computed 12.9 MiB so far)\n",
      "24/05/04 22:37:07 WARN MemoryStore: Not enough space to cache rdd_253_14 in memory! (computed 12.9 MiB so far)\n",
      "24/05/04 22:37:07 WARN MemoryStore: Not enough space to cache rdd_253_12 in memory! (computed 12.9 MiB so far)\n",
      "24/05/04 22:37:07 WARN MemoryStore: Not enough space to cache rdd_253_3 in memory! (computed 19.3 MiB so far)\n",
      "24/05/04 22:37:07 WARN MemoryStore: Not enough space to cache rdd_253_15 in memory! (computed 28.9 MiB so far)\n",
      "24/05/04 22:37:07 WARN MemoryStore: Not enough space to cache rdd_253_10 in memory! (computed 12.9 MiB so far)\n",
      "24/05/04 22:37:07 WARN MemoryStore: Not enough space to cache rdd_253_7 in memory! (computed 19.3 MiB so far)\n",
      "24/05/04 22:37:07 WARN MemoryStore: Not enough space to cache rdd_253_8 in memory! (computed 19.3 MiB so far)\n",
      "24/05/04 22:37:07 WARN MemoryStore: Not enough space to cache rdd_253_2 in memory! (computed 28.9 MiB so far)\n",
      "24/05/04 22:37:07 WARN MemoryStore: Not enough space to cache rdd_253_0 in memory! (computed 28.9 MiB so far)\n",
      "24/05/04 22:37:07 WARN MemoryStore: Not enough space to cache rdd_253_13 in memory! (computed 28.9 MiB so far)\n",
      "24/05/04 22:37:07 WARN MemoryStore: Not enough space to cache rdd_253_4 in memory! (computed 19.3 MiB so far)\n",
      "24/05/04 22:37:07 WARN MemoryStore: Not enough space to cache rdd_253_9 in memory! (computed 28.9 MiB so far)\n",
      "24/05/04 22:37:07 WARN MemoryStore: Not enough space to cache rdd_253_6 in memory! (computed 28.9 MiB so far)\n",
      "24/05/04 22:37:07 WARN MemoryStore: Not enough space to cache rdd_253_1 in memory! (computed 28.9 MiB so far)\n"
     ]
    },
    {
     "name": "stderr",
     "output_type": "stream",
     "text": [
      "                                                                                \r"
     ]
    },
    {
     "name": "stdout",
     "output_type": "stream",
     "text": [
      "24/05/04 22:37:08 WARN MemoryStore: Not enough space to cache rdd_253_15 in memory! (computed 19.3 MiB so far)\n",
      "24/05/04 22:37:08 WARN MemoryStore: Not enough space to cache rdd_253_7 in memory! (computed 19.3 MiB so far)\n",
      "24/05/04 22:37:08 WARN MemoryStore: Not enough space to cache rdd_253_6 in memory! (computed 19.3 MiB so far)\n",
      "24/05/04 22:37:08 WARN MemoryStore: Not enough space to cache rdd_253_10 in memory! (computed 19.3 MiB so far)\n",
      "24/05/04 22:37:08 WARN MemoryStore: Not enough space to cache rdd_253_4 in memory! (computed 19.3 MiB so far)\n",
      "24/05/04 22:37:08 WARN MemoryStore: Not enough space to cache rdd_253_11 in memory! (computed 19.3 MiB so far)\n",
      "24/05/04 22:37:08 WARN MemoryStore: Not enough space to cache rdd_253_12 in memory! (computed 19.3 MiB so far)\n",
      "24/05/04 22:37:08 WARN MemoryStore: Not enough space to cache rdd_253_8 in memory! (computed 19.3 MiB so far)\n",
      "24/05/04 22:37:08 WARN MemoryStore: Not enough space to cache rdd_253_5 in memory! (computed 19.3 MiB so far)\n",
      "24/05/04 22:37:08 WARN MemoryStore: Not enough space to cache rdd_253_13 in memory! (computed 19.3 MiB so far)\n",
      "24/05/04 22:37:08 WARN MemoryStore: Not enough space to cache rdd_253_9 in memory! (computed 19.3 MiB so far)\n"
     ]
    },
    {
     "name": "stderr",
     "output_type": "stream",
     "text": [
      "[Stage 91:>                                                       (0 + 16) / 16]\r"
     ]
    },
    {
     "name": "stdout",
     "output_type": "stream",
     "text": [
      "24/05/04 22:37:09 WARN MemoryStore: Not enough space to cache rdd_253_0 in memory! (computed 28.9 MiB so far)\n",
      "24/05/04 22:37:09 WARN MemoryStore: Not enough space to cache rdd_253_1 in memory! (computed 28.9 MiB so far)\n",
      "24/05/04 22:37:09 WARN MemoryStore: Not enough space to cache rdd_253_3 in memory! (computed 28.9 MiB so far)\n",
      "24/05/04 22:37:09 WARN MemoryStore: Not enough space to cache rdd_253_14 in memory! (computed 28.9 MiB so far)\n",
      "24/05/04 22:37:09 WARN MemoryStore: Not enough space to cache rdd_253_2 in memory! (computed 28.9 MiB so far)\n"
     ]
    },
    {
     "name": "stderr",
     "output_type": "stream",
     "text": [
      "                                                                                \r"
     ]
    },
    {
     "name": "stdout",
     "output_type": "stream",
     "text": [
      "24/05/04 22:37:10 WARN MemoryStore: Not enough space to cache rdd_253_4 in memory! (computed 19.3 MiB so far)\n",
      "24/05/04 22:37:10 WARN MemoryStore: Not enough space to cache rdd_253_14 in memory! (computed 19.3 MiB so far)\n",
      "24/05/04 22:37:10 WARN MemoryStore: Not enough space to cache rdd_253_13 in memory! (computed 19.3 MiB so far)\n",
      "24/05/04 22:37:10 WARN MemoryStore: Not enough space to cache rdd_253_7 in memory! (computed 19.3 MiB so far)\n",
      "24/05/04 22:37:10 WARN MemoryStore: Not enough space to cache rdd_253_9 in memory! (computed 19.3 MiB so far)\n",
      "24/05/04 22:37:10 WARN MemoryStore: Not enough space to cache rdd_253_8 in memory! (computed 19.3 MiB so far)\n",
      "24/05/04 22:37:10 WARN MemoryStore: Not enough space to cache rdd_253_5 in memory! (computed 19.3 MiB so far)\n",
      "24/05/04 22:37:10 WARN MemoryStore: Not enough space to cache rdd_253_15 in memory! (computed 19.3 MiB so far)\n",
      "24/05/04 22:37:10 WARN MemoryStore: Not enough space to cache rdd_253_0 in memory! (computed 19.3 MiB so far)\n",
      "24/05/04 22:37:10 WARN MemoryStore: Not enough space to cache rdd_253_1 in memory! (computed 19.3 MiB so far)\n",
      "24/05/04 22:37:10 WARN MemoryStore: Not enough space to cache rdd_253_6 in memory! (computed 19.3 MiB so far)\n",
      "24/05/04 22:37:10 WARN MemoryStore: Not enough space to cache rdd_253_2 in memory! (computed 28.9 MiB so far)\n",
      "24/05/04 22:37:10 WARN MemoryStore: Not enough space to cache rdd_253_10 in memory! (computed 28.9 MiB so far)\n",
      "24/05/04 22:37:10 WARN MemoryStore: Not enough space to cache rdd_253_11 in memory! (computed 28.9 MiB so far)\n",
      "24/05/04 22:37:10 WARN MemoryStore: Not enough space to cache rdd_253_12 in memory! (computed 28.9 MiB so far)\n"
     ]
    },
    {
     "name": "stderr",
     "output_type": "stream",
     "text": [
      "                                                                                \r"
     ]
    }
   ],
   "source": [
    "dt = DecisionTreeRegressor(featuresCol = 'features', labelCol = 'tip_amount', maxDepth=3)\n",
    "model = dt.fit(train_data)"
   ]
  },
  {
   "cell_type": "code",
   "execution_count": 15,
   "id": "0008e4fe-bb95-46ef-83c4-961d77147557",
   "metadata": {},
   "outputs": [
    {
     "name": "stderr",
     "output_type": "stream",
     "text": [
      "                                                                                \r"
     ]
    },
    {
     "name": "stdout",
     "output_type": "stream",
     "text": [
      "-RECORD 0------------------------------------------------------------------------------\n",
      " passenger_count       | 0                                                             \n",
      " trip_distance         | 0.0                                                           \n",
      " store_and_fwd_flag    | 0                                                             \n",
      " payment_type          | 1                                                             \n",
      " fare_amount           | 18.5                                                          \n",
      " extra                 | 0.0                                                           \n",
      " mta_tax               | 0.5                                                           \n",
      " tip_amount            | 2.0                                                           \n",
      " tolls_amount          | 0.0                                                           \n",
      " improvement_surcharge | 0.3                                                           \n",
      " total_amount          | 21.3                                                          \n",
      " duration_hours        | 0.005                                                         \n",
      " features              | (11,[3,4,6,8,9,10],[1.0,18.5,0.5,0.3,21.3,0.005])             \n",
      " prediction            | 3.4906234301499093                                            \n",
      "-RECORD 1------------------------------------------------------------------------------\n",
      " passenger_count       | 0                                                             \n",
      " trip_distance         | 0.0                                                           \n",
      " store_and_fwd_flag    | 0                                                             \n",
      " payment_type          | 1                                                             \n",
      " fare_amount           | 75.0                                                          \n",
      " extra                 | 0.0                                                           \n",
      " mta_tax               | 0.0                                                           \n",
      " tip_amount            | 0.0                                                           \n",
      " tolls_amount          | 0.0                                                           \n",
      " improvement_surcharge | 0.0                                                           \n",
      " total_amount          | 75.0                                                          \n",
      " duration_hours        | 0.0                                                           \n",
      " features              | (11,[3,4,9],[1.0,75.0,75.0])                                  \n",
      " prediction            | 13.715125282995492                                            \n",
      "-RECORD 2------------------------------------------------------------------------------\n",
      " passenger_count       | 0                                                             \n",
      " trip_distance         | 0.0                                                           \n",
      " store_and_fwd_flag    | 0                                                             \n",
      " payment_type          | 2                                                             \n",
      " fare_amount           | 52.0                                                          \n",
      " extra                 | 4.5                                                           \n",
      " mta_tax               | 0.5                                                           \n",
      " tip_amount            | 0.0                                                           \n",
      " tolls_amount          | 0.0                                                           \n",
      " improvement_surcharge | 0.3                                                           \n",
      " total_amount          | 57.3                                                          \n",
      " duration_hours        | 6.721111111111111                                             \n",
      " features              | [0.0,0.0,0.0,2.0,52.0,4.5,0.5,0.0,0.3,57.3,6.721111111111111] \n",
      " prediction            | 0.0015296409956646697                                         \n",
      "-RECORD 3------------------------------------------------------------------------------\n",
      " passenger_count       | 0                                                             \n",
      " trip_distance         | 0.0                                                           \n",
      " store_and_fwd_flag    | 0                                                             \n",
      " payment_type          | 4                                                             \n",
      " fare_amount           | 0.01                                                          \n",
      " extra                 | 0.0                                                           \n",
      " mta_tax               | 0.0                                                           \n",
      " tip_amount            | 0.0                                                           \n",
      " tolls_amount          | 0.0                                                           \n",
      " improvement_surcharge | 0.3                                                           \n",
      " total_amount          | 0.31                                                          \n",
      " duration_hours        | 0.025555555555555557                                          \n",
      " features              | (11,[3,4,8,9,10],[4.0,0.01,0.3,0.31,0.025555555555555557])    \n",
      " prediction            | 7.050499685589544E-5                                          \n",
      "-RECORD 4------------------------------------------------------------------------------\n",
      " passenger_count       | 0                                                             \n",
      " trip_distance         | 0.0                                                           \n",
      " store_and_fwd_flag    | 1                                                             \n",
      " payment_type          | 1                                                             \n",
      " fare_amount           | 6.8                                                           \n",
      " extra                 | 0.0                                                           \n",
      " mta_tax               | 0.0                                                           \n",
      " tip_amount            | 0.0                                                           \n",
      " tolls_amount          | 0.0                                                           \n",
      " improvement_surcharge | 0.0                                                           \n",
      " total_amount          | 6.8                                                           \n",
      " duration_hours        | 4.0                                                           \n",
      " features              | (11,[2,3,4,9,10],[1.0,1.0,6.8,6.8,4.0])                       \n",
      " prediction            | 1.654610606351258                                             \n",
      "only showing top 5 rows\n",
      "\n"
     ]
    },
    {
     "name": "stderr",
     "output_type": "stream",
     "text": [
      "[Stage 102:======>                                                (2 + 14) / 16]\r"
     ]
    },
    {
     "name": "stdout",
     "output_type": "stream",
     "text": [
      "MAE: 0.5628859527250294\n",
      "MSE: 1.8051962967944253\n",
      "RMSE: 1.3435759363707083\n",
      "R2-Score: 0.7141497763903443\n"
     ]
    },
    {
     "name": "stderr",
     "output_type": "stream",
     "text": [
      "                                                                                \r"
     ]
    }
   ],
   "source": [
    "pred_results = model.transform(test_data)\n",
    "pred_results.show(n=5, truncate=False, vertical=True)\n",
    "\n",
    "# Printing the results\n",
    "evaluator = RegressionEvaluator(predictionCol = 'prediction', labelCol = 'tip_amount')\n",
    "\n",
    "mae = evaluator.evaluate(pred_results,\n",
    "{evaluator.metricName: \"mae\"})\n",
    "\n",
    "mse = evaluator.evaluate(pred_results,\n",
    "{evaluator.metricName: \"mse\"})\n",
    "\n",
    "rmse = evaluator.evaluate(pred_results,\n",
    "{evaluator.metricName: \"rmse\"})\n",
    "\n",
    "r2 = evaluator.evaluate(pred_results,\n",
    "{evaluator.metricName: \"r2\"})\n",
    "\n",
    "print('MAE:', mae)\n",
    "print('MSE:', mse)\n",
    "print('RMSE:', rmse)\n",
    "print('R2-Score:', r2)"
   ]
  }
 ],
 "metadata": {
  "kernelspec": {
   "display_name": "Python 3 (ipykernel)",
   "language": "python",
   "name": "python3"
  },
  "language_info": {
   "codemirror_mode": {
    "name": "ipython",
    "version": 3
   },
   "file_extension": ".py",
   "mimetype": "text/x-python",
   "name": "python",
   "nbconvert_exporter": "python",
   "pygments_lexer": "ipython3",
   "version": "3.9.2"
  }
 },
 "nbformat": 4,
 "nbformat_minor": 5
}

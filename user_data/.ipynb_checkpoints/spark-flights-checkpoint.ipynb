{
 "cells": [
  {
   "cell_type": "markdown",
   "id": "f7145ddb",
   "metadata": {},
   "source": [
    "## Configuração de Env e Sparks"
   ]
  },
  {
   "cell_type": "code",
   "execution_count": 14,
   "id": "3d977dd9-de5a-4f7b-b938-307333aeee18",
   "metadata": {},
   "outputs": [],
   "source": [
    "import os\n",
    "os.environ[\"JAVA_HOME\"] = \"/usr/local/openjdk-8\"\n",
    "os.environ[\"SPARK_HOME\"] = \"/user_data/spark-3.3.0-bin-hadoop2\"\n",
    "\n",
    "import findspark\n",
    "findspark.init('spark-3.3.0-bin-hadoop2')"
   ]
  },
  {
   "cell_type": "markdown",
   "id": "22cce02b-dcb3-41a8-b5f3-be2d340d7ce3",
   "metadata": {},
   "source": [
    "## Imports"
   ]
  },
  {
   "cell_type": "code",
   "execution_count": 15,
   "id": "00f41645-7cd9-42df-b97a-8e33155684c8",
   "metadata": {},
   "outputs": [],
   "source": [
    "# Importando bibliotecas necessárias\n",
    "from pyspark.sql import SparkSession\n",
    "from pyspark.sql.functions import col\n",
    "from pyspark.ml.feature import VectorAssembler\n",
    "from pyspark.ml.classification import RandomForestClassifier\n",
    "from pyspark.ml import Pipeline\n",
    "from pyspark.ml.evaluation import MulticlassClassificationEvaluator\n",
    "\n",
    "spark = (\n",
    "    SparkSession.builder.appName(\"spark_flight\")\n",
    "    .config(\"spark.sql.warehouse.dir\", \"hdfs:///user/hive/warehouse\")\n",
    "    .config(\"spark.sql.catalogImplementation\", \"hive\")\n",
    "    .getOrCreate()\n",
    ")"
   ]
  },
  {
   "cell_type": "markdown",
   "id": "89d97666",
   "metadata": {},
   "source": [
    "## Dataset escolhido\n",
    "\n",
    "O dataset escolhido foi o [Flight Status Prediction (link do Kaggle)](https://www.kaggle.com/datasets/robikscube/flight-delay-dataset-20182022/data). Esse dataset possui diversas informações sobre voos realizados, incluindo dados sobre cancelamento e atrasos.\n",
    "\n",
    "Apesar da disponibilidade de dados adquiridos desde 2018, selecionamos o arquivo CSV referente ao ano de 2022, que contém 1.42 GB de dados."
   ]
  },
  {
   "cell_type": "markdown",
   "id": "448285de-ba86-494f-8fd1-634b8c71076a",
   "metadata": {},
   "source": [
    "## Leitura do dataset"
   ]
  },
  {
   "cell_type": "code",
   "execution_count": 16,
   "id": "fb01bb0f-0cd7-4b18-937c-3d76eb3262c0",
   "metadata": {},
   "outputs": [
    {
     "name": "stderr",
     "output_type": "stream",
     "text": [
      "[Stage 2:==========================================>              (12 + 4) / 16]\r"
     ]
    },
    {
     "name": "stdout",
     "output_type": "stream",
     "text": [
      "Número de linhas no DataFrame: 4078318\n"
     ]
    },
    {
     "name": "stderr",
     "output_type": "stream",
     "text": [
      "                                                                                \r"
     ]
    }
   ],
   "source": [
    "dataframe = spark.read.csv(\"hdfs://spark-master:9000/datasets/flights/Combined_Flights_2022.csv\", header=True, inferSchema=True)\n",
    "num_linhas = dataframe.count()\n",
    "print(f\"Número de linhas no DataFrame: {num_linhas}\")"
   ]
  },
  {
   "cell_type": "markdown",
   "id": "428bebcf",
   "metadata": {},
   "source": [
    "## Análise Exploratória de Dados (EDA)"
   ]
  },
  {
   "cell_type": "code",
   "execution_count": 17,
   "id": "f02c0ca8-4c5c-4da8-9ffe-401f6aa65feb",
   "metadata": {},
   "outputs": [
    {
     "name": "stdout",
     "output_type": "stream",
     "text": [
      "root\n",
      " |-- FlightDate: timestamp (nullable = true)\n",
      " |-- Airline: string (nullable = true)\n",
      " |-- Origin: string (nullable = true)\n",
      " |-- Dest: string (nullable = true)\n",
      " |-- Cancelled: boolean (nullable = true)\n",
      " |-- Diverted: boolean (nullable = true)\n",
      " |-- CRSDepTime: integer (nullable = true)\n",
      " |-- DepTime: double (nullable = true)\n",
      " |-- DepDelayMinutes: double (nullable = true)\n",
      " |-- DepDelay: double (nullable = true)\n",
      " |-- ArrTime: double (nullable = true)\n",
      " |-- ArrDelayMinutes: double (nullable = true)\n",
      " |-- AirTime: double (nullable = true)\n",
      " |-- CRSElapsedTime: double (nullable = true)\n",
      " |-- ActualElapsedTime: double (nullable = true)\n",
      " |-- Distance: double (nullable = true)\n",
      " |-- Year: integer (nullable = true)\n",
      " |-- Quarter: integer (nullable = true)\n",
      " |-- Month: integer (nullable = true)\n",
      " |-- DayofMonth: integer (nullable = true)\n",
      " |-- DayOfWeek: integer (nullable = true)\n",
      " |-- Marketing_Airline_Network: string (nullable = true)\n",
      " |-- Operated_or_Branded_Code_Share_Partners: string (nullable = true)\n",
      " |-- DOT_ID_Marketing_Airline: integer (nullable = true)\n",
      " |-- IATA_Code_Marketing_Airline: string (nullable = true)\n",
      " |-- Flight_Number_Marketing_Airline: integer (nullable = true)\n",
      " |-- Operating_Airline: string (nullable = true)\n",
      " |-- DOT_ID_Operating_Airline: integer (nullable = true)\n",
      " |-- IATA_Code_Operating_Airline: string (nullable = true)\n",
      " |-- Tail_Number: string (nullable = true)\n",
      " |-- Flight_Number_Operating_Airline: integer (nullable = true)\n",
      " |-- OriginAirportID: integer (nullable = true)\n",
      " |-- OriginAirportSeqID: integer (nullable = true)\n",
      " |-- OriginCityMarketID: integer (nullable = true)\n",
      " |-- OriginCityName: string (nullable = true)\n",
      " |-- OriginState: string (nullable = true)\n",
      " |-- OriginStateFips: integer (nullable = true)\n",
      " |-- OriginStateName: string (nullable = true)\n",
      " |-- OriginWac: integer (nullable = true)\n",
      " |-- DestAirportID: integer (nullable = true)\n",
      " |-- DestAirportSeqID: integer (nullable = true)\n",
      " |-- DestCityMarketID: integer (nullable = true)\n",
      " |-- DestCityName: string (nullable = true)\n",
      " |-- DestState: string (nullable = true)\n",
      " |-- DestStateFips: integer (nullable = true)\n",
      " |-- DestStateName: string (nullable = true)\n",
      " |-- DestWac: integer (nullable = true)\n",
      " |-- DepDel15: double (nullable = true)\n",
      " |-- DepartureDelayGroups: double (nullable = true)\n",
      " |-- DepTimeBlk: string (nullable = true)\n",
      " |-- TaxiOut: double (nullable = true)\n",
      " |-- WheelsOff: double (nullable = true)\n",
      " |-- WheelsOn: double (nullable = true)\n",
      " |-- TaxiIn: double (nullable = true)\n",
      " |-- CRSArrTime: integer (nullable = true)\n",
      " |-- ArrDelay: double (nullable = true)\n",
      " |-- ArrDel15: double (nullable = true)\n",
      " |-- ArrivalDelayGroups: double (nullable = true)\n",
      " |-- ArrTimeBlk: string (nullable = true)\n",
      " |-- DistanceGroup: integer (nullable = true)\n",
      " |-- DivAirportLandings: integer (nullable = true)\n",
      "\n"
     ]
    }
   ],
   "source": [
    "# Visualizando o esquema dos dados\n",
    "dataframe.printSchema()"
   ]
  },
  {
   "cell_type": "code",
   "execution_count": 18,
   "id": "98a30a7d-7fce-436c-9c6d-7050a31dbe7c",
   "metadata": {},
   "outputs": [
    {
     "name": "stderr",
     "output_type": "stream",
     "text": [
      "                                                                                \r"
     ]
    },
    {
     "name": "stdout",
     "output_type": "stream",
     "text": [
      "Número de linhas no DataFrame Sample: 408034\n"
     ]
    },
    {
     "name": "stderr",
     "output_type": "stream",
     "text": [
      "[Stage 10:>                                                         (0 + 1) / 1]\r"
     ]
    },
    {
     "name": "stdout",
     "output_type": "stream",
     "text": [
      "+-------+--------------------+------+------+------------------+------------------+------------------+------------------+-----------------+------------------+------------------+-----------------+------------------+-----------------+--------------------+------------------+------------------+------------------+------------------+-------------------------+---------------------------------------+------------------------+---------------------------+-------------------------------+-----------------+------------------------+---------------------------+-----------+-------------------------------+------------------+------------------+------------------+--------------+-----------+------------------+---------------+------------------+------------------+------------------+------------------+------------+---------+------------------+-------------+------------------+-------------------+--------------------+----------+------------------+------------------+------------------+-----------------+------------------+-----------------+-------------------+--------------------+----------+------------------+--------------------+\n",
      "|summary|             Airline|Origin|  Dest|        CRSDepTime|           DepTime|   DepDelayMinutes|          DepDelay|          ArrTime|   ArrDelayMinutes|           AirTime|   CRSElapsedTime| ActualElapsedTime|         Distance|                Year|           Quarter|             Month|        DayofMonth|         DayOfWeek|Marketing_Airline_Network|Operated_or_Branded_Code_Share_Partners|DOT_ID_Marketing_Airline|IATA_Code_Marketing_Airline|Flight_Number_Marketing_Airline|Operating_Airline|DOT_ID_Operating_Airline|IATA_Code_Operating_Airline|Tail_Number|Flight_Number_Operating_Airline|   OriginAirportID|OriginAirportSeqID|OriginCityMarketID|OriginCityName|OriginState|   OriginStateFips|OriginStateName|         OriginWac|     DestAirportID|  DestAirportSeqID|  DestCityMarketID|DestCityName|DestState|     DestStateFips|DestStateName|           DestWac|           DepDel15|DepartureDelayGroups|DepTimeBlk|           TaxiOut|         WheelsOff|          WheelsOn|           TaxiIn|        CRSArrTime|         ArrDelay|           ArrDel15|  ArrivalDelayGroups|ArrTimeBlk|     DistanceGroup|  DivAirportLandings|\n",
      "+-------+--------------------+------+------+------------------+------------------+------------------+------------------+-----------------+------------------+------------------+-----------------+------------------+-----------------+--------------------+------------------+------------------+------------------+------------------+-------------------------+---------------------------------------+------------------------+---------------------------+-------------------------------+-----------------+------------------------+---------------------------+-----------+-------------------------------+------------------+------------------+------------------+--------------+-----------+------------------+---------------+------------------+------------------+------------------+------------------+------------+---------+------------------+-------------+------------------+-------------------+--------------------+----------+------------------+------------------+------------------+-----------------+------------------+-----------------+-------------------+--------------------+----------+------------------+--------------------+\n",
      "|  count|              408034|408034|408034|            408034|            395927|            395914|            395914|           395555|            394642|            394642|           408034|            394642|           408034|              408034|            408034|            408034|            408034|            408034|                   408034|                                 408034|                  408034|                     408034|                         408034|           408034|                  408034|                     408034|     405264|                         408034|            408034|            408034|            408034|        408034|     408034|            408034|         408034|            408034|            408034|            408034|            408034|      408034|   408034|            408034|       408034|            408034|             395914|              395914|    408034|            395709|            395709|            395555|           395555|            408034|           394642|             394642|              394642|    408034|            408034|              408034|\n",
      "|   mean|                null|  null|  null|1329.2969531950769|1333.7618197293946|16.026351682436086|13.107104068055184|1456.782386773015|15.810587823901155|111.01423315308558|141.3211668635457|135.85912295194126|797.7561208134616|              2022.0|1.7414651720199787|  4.08788238235049|15.709031600307817|  4.00232823735277|                     null|                                   null|      19830.612961174804|                       null|              2563.297431096428|             null|       19991.18867790429|                       null|       null|             2563.3604160437612|12660.993502992398|1266103.1959395541| 31755.98430277869|          null|       null|27.460780229098557|           null|53.959907752785305|12661.814142939069|1266185.2601253816|31757.492757956446|        null|     null|27.509847218614134|         null| 54.05429694584275|0.21819890178170007| 0.21066696302732413|      null|16.974509045788697|1355.7642408941924|1454.5207442707083|7.882107418690195|1484.8541396060132|7.556950349937412|0.21613259612509567|-0.06526421414851942|      null|3.6626163505982343|0.003580583970943...|\n",
      "| stddev|                null|  null|  null| 491.3392734199565|506.35453372624147| 53.40179891675412| 54.38554927070117|543.6602181475596| 53.12300526027309| 70.03945493169807|71.88672579375923| 71.92362280723708|592.1954006284179|4.028069459678065...|0.7028785338399443|1.9954926046439772| 8.763407020797201|2.0066121787950295|                     null|                                   null|       275.7171166918896|                       null|             1745.4639683346331|             null|       376.7935093237631|                       null|       null|             1745.5517190988414|1521.5327577372861|152153.07710203034|1319.7972816355414|          null|       null| 16.70830414213662|           null|26.633131891202762|1522.1441106364525| 152214.2138813487|1320.3119421493093|        null|     null| 16.71467957152563|         null|26.632613303484064|0.41302369413358814|  2.3381523486024727|      null| 9.479777092629421| 508.3758257743881| 538.0692808558257|6.665177235383986|  519.319507191403|56.32291067814055|0.41160627584757287|  2.4808576385106598|      null|2.3209281527123804| 0.10993948765625883|\n",
      "|    min|Air Wisconsin Air...|   ABE|   ABE|                 1|               1.0|               0.0|             -43.0|              1.0|               0.0|               8.0|             22.0|              16.0|             31.0|                2022|                 1|                 1|                 1|                 1|                       AA|                                     AA|                   19393|                         AA|                              1|               9E|                   19393|                         9E|      202NV|                              1|             10135|           1013506|             30070|  Aberdeen, SD|         AK|                 1|        Alabama|                 1|             10135|           1013506|             30070|Aberdeen, SD|       AK|                 1|      Alabama|                 1|                0.0|                -2.0| 0001-0559|               1.0|               1.0|               1.0|              1.0|                 1|            -80.0|                0.0|                -2.0| 0001-0559|                 1|                   0|\n",
      "|    25%|                null|  null|  null|               910|             915.0|               0.0|              -5.0|           1045.0|               0.0|              60.0|             89.0|              83.0|            366.0|                2022|                 1|                 2|                 8|                 2|                     null|                                   null|                   19790|                       null|                           1107|             null|                   19790|                       null|       null|                           1107|             11292|           1129202|             30693|          null|       null|                12|           null|                33|             11292|           1129202|             30693|        null|     null|                12|         null|                33|                0.0|                -1.0|      null|              11.0|             931.0|            1042.0|              4.0|              1100|            -14.0|                0.0|                -1.0|      null|                 2|                   0|\n",
      "|    50%|                null|  null|  null|              1320|            1324.0|               0.0|              -2.0|           1458.0|               0.0|              93.0|            124.0|             119.0|            642.0|                2022|                 2|                 4|                16|                 4|                     null|                                   null|                   19805|                       null|                           2229|             null|                   19977|                       null|       null|                           2229|             12889|           1288903|             31453|          null|       null|                27|           null|                44|             12889|           1288903|             31453|        null|     null|                27|         null|                44|                0.0|                -1.0|      null|              15.0|            1337.0|            1455.0|              6.0|              1511|             -5.0|                0.0|                -1.0|      null|                 3|                   0|\n",
      "|    75%|                null|  null|  null|              1735|            1744.0|              11.0|              11.0|           1913.0|              10.0|             141.0|            171.0|             167.0|           1035.0|                2022|                 2|                 6|                23|                 6|                     null|                                   null|                   19977|                       null|                           3880|             null|                   20378|                       null|       null|                           3880|             14027|           1402702|             32467|          null|       null|                42|           null|                81|             14027|           1402702|             32467|        null|     null|                42|         null|                81|                0.0|                 0.0|      null|              19.0|            1758.0|            1909.0|              9.0|              1920|             10.0|                0.0|                 0.0|      null|                 5|                   0|\n",
      "|    max|United Air Lines ...|   YUM|   YUM|              2359|            2400.0|            5327.0|            5327.0|           2400.0|            5324.0|             658.0|            685.0|             698.0|           5095.0|                2022|                 3|                 7|                31|                 7|                       WN|                                     WN|                   20436|                         WN|                           9677|               ZW|                   20500|                         ZW|     N999JQ|                           9677|             16869|           1686901|             36101|      Yuma, AZ|         WY|                78|        Wyoming|                93|             16869|           1686901|             36101|    Yuma, AZ|       WY|                78|      Wyoming|                93|                1.0|                12.0| 2300-2359|             177.0|            2400.0|            2400.0|            280.0|              2359|           5324.0|                1.0|                12.0| 2300-2359|                11|                   9|\n",
      "+-------+--------------------+------+------+------------------+------------------+------------------+------------------+-----------------+------------------+------------------+-----------------+------------------+-----------------+--------------------+------------------+------------------+------------------+------------------+-------------------------+---------------------------------------+------------------------+---------------------------+-------------------------------+-----------------+------------------------+---------------------------+-----------+-------------------------------+------------------+------------------+------------------+--------------+-----------+------------------+---------------+------------------+------------------+------------------+------------------+------------+---------+------------------+-------------+------------------+-------------------+--------------------+----------+------------------+------------------+------------------+-----------------+------------------+-----------------+-------------------+--------------------+----------+------------------+--------------------+\n",
      "\n"
     ]
    },
    {
     "name": "stderr",
     "output_type": "stream",
     "text": [
      "                                                                                \r"
     ]
    }
   ],
   "source": [
    "# Remover depois, é apenas para conseguir rodar\n",
    "dataframe_sample = dataframe.sample(fraction=0.1, seed=3)\n",
    "print(f\"Número de linhas no DataFrame Sample: {dataframe_sample.count()}\")\n",
    "\n",
    "# Exibindo algumas informações dos atributos\n",
    "dataframe_sample.summary().show()"
   ]
  },
  {
   "cell_type": "code",
   "execution_count": 19,
   "id": "b483b503-606c-4adb-94a5-3942e7170b18",
   "metadata": {},
   "outputs": [
    {
     "name": "stdout",
     "output_type": "stream",
     "text": [
      "+-------------------+--------------------+------+----+---------+--------+----------+-------+---------------+--------+-------+---------------+-------+--------------+-----------------+--------+----+-------+-----+----------+---------+-------------------------+---------------------------------------+------------------------+---------------------------+-------------------------------+-----------------+------------------------+---------------------------+-----------+-------------------------------+---------------+------------------+------------------+--------------------+-----------+---------------+---------------+---------+-------------+----------------+----------------+-------------------+---------+-------------+-------------+-------+--------+--------------------+----------+-------+---------+--------+------+----------+--------+--------+------------------+----------+-------------+------------------+\n",
      "|         FlightDate|             Airline|Origin|Dest|Cancelled|Diverted|CRSDepTime|DepTime|DepDelayMinutes|DepDelay|ArrTime|ArrDelayMinutes|AirTime|CRSElapsedTime|ActualElapsedTime|Distance|Year|Quarter|Month|DayofMonth|DayOfWeek|Marketing_Airline_Network|Operated_or_Branded_Code_Share_Partners|DOT_ID_Marketing_Airline|IATA_Code_Marketing_Airline|Flight_Number_Marketing_Airline|Operating_Airline|DOT_ID_Operating_Airline|IATA_Code_Operating_Airline|Tail_Number|Flight_Number_Operating_Airline|OriginAirportID|OriginAirportSeqID|OriginCityMarketID|      OriginCityName|OriginState|OriginStateFips|OriginStateName|OriginWac|DestAirportID|DestAirportSeqID|DestCityMarketID|       DestCityName|DestState|DestStateFips|DestStateName|DestWac|DepDel15|DepartureDelayGroups|DepTimeBlk|TaxiOut|WheelsOff|WheelsOn|TaxiIn|CRSArrTime|ArrDelay|ArrDel15|ArrivalDelayGroups|ArrTimeBlk|DistanceGroup|DivAirportLandings|\n",
      "+-------------------+--------------------+------+----+---------+--------+----------+-------+---------------+--------+-------+---------------+-------+--------------+-----------------+--------+----+-------+-----+----------+---------+-------------------------+---------------------------------------+------------------------+---------------------------+-------------------------------+-----------------+------------------------+---------------------------+-----------+-------------------------------+---------------+------------------+------------------+--------------------+-----------+---------------+---------------+---------+-------------+----------------+----------------+-------------------+---------+-------------+-------------+-------+--------+--------------------+----------+-------+---------+--------+------+----------+--------+--------+------------------+----------+-------------+------------------+\n",
      "|2022-04-04 00:00:00|Commutair Aka Cha...|   GJT| DEN|    false|   false|      1133| 1123.0|            0.0|   -10.0| 1228.0|            0.0|   40.0|          72.0|             65.0|   212.0|2022|      2|    4|         4|        1|                       UA|                           UA_CODESHARE|                   19977|                         UA|                           4301|               C5|                   20445|                         C5|     N21144|                           4301|          11921|           1192102|             31921|  Grand Junction, CO|         CO|              8|       Colorado|       82|        11292|         1129202|           30325|         Denver, CO|       CO|            8|     Colorado|     82|     0.0|                -1.0| 1100-1159|   17.0|   1140.0|  1220.0|   8.0|      1245|   -17.0|     0.0|              -2.0| 1200-1259|            1|                 0|\n",
      "|2022-04-04 00:00:00|Commutair Aka Cha...|   HRL| IAH|    false|   false|       732|  728.0|            0.0|    -4.0|  848.0|            0.0|   55.0|          77.0|             80.0|   295.0|2022|      2|    4|         4|        1|                       UA|                           UA_CODESHARE|                   19977|                         UA|                           4299|               C5|                   20445|                         C5|     N16170|                           4299|          12206|           1220605|             32206|Harlingen/San Ben...|         TX|             48|          Texas|       74|        12266|         1226603|           31453|        Houston, TX|       TX|           48|        Texas|     74|     0.0|                -1.0| 0700-0759|   16.0|    744.0|   839.0|   9.0|       849|    -1.0|     0.0|              -1.0| 0800-0859|            2|                 0|\n",
      "|2022-04-04 00:00:00|Commutair Aka Cha...|   DRO| DEN|    false|   false|      1529| 1514.0|            0.0|   -15.0| 1636.0|            0.0|   47.0|          70.0|             82.0|   251.0|2022|      2|    4|         4|        1|                       UA|                           UA_CODESHARE|                   19977|                         UA|                           4298|               C5|                   20445|                         C5|     N21144|                           4298|          11413|           1141307|             30285|         Durango, CO|         CO|              8|       Colorado|       82|        11292|         1129202|           30325|         Denver, CO|       CO|            8|     Colorado|     82|     0.0|                -1.0| 1500-1559|   21.0|   1535.0|  1622.0|  14.0|      1639|    -3.0|     0.0|              -1.0| 1600-1659|            2|                 0|\n",
      "|2022-04-04 00:00:00|Commutair Aka Cha...|   IAH| GPT|    false|   false|      1435| 1430.0|            0.0|    -5.0| 1547.0|            0.0|   57.0|          90.0|             77.0|   376.0|2022|      2|    4|         4|        1|                       UA|                           UA_CODESHARE|                   19977|                         UA|                           4296|               C5|                   20445|                         C5|     N11184|                           4296|          12266|           1226603|             31453|         Houston, TX|         TX|             48|          Texas|       74|        11973|         1197302|           31973|Gulfport/Biloxi, MS|       MS|           28|  Mississippi|     53|     0.0|                -1.0| 1400-1459|   16.0|   1446.0|  1543.0|   4.0|      1605|   -18.0|     0.0|              -2.0| 1600-1659|            2|                 0|\n",
      "|2022-04-04 00:00:00|Commutair Aka Cha...|   DRO| DEN|    false|   false|      1135| 1135.0|            0.0|     0.0| 1251.0|            6.0|   49.0|          70.0|             76.0|   251.0|2022|      2|    4|         4|        1|                       UA|                           UA_CODESHARE|                   19977|                         UA|                           4295|               C5|                   20445|                         C5|     N17146|                           4295|          11413|           1141307|             30285|         Durango, CO|         CO|              8|       Colorado|       82|        11292|         1129202|           30325|         Denver, CO|       CO|            8|     Colorado|     82|     0.0|                 0.0| 1100-1159|   19.0|   1154.0|  1243.0|   8.0|      1245|     6.0|     0.0|               0.0| 1200-1259|            2|                 0|\n",
      "+-------------------+--------------------+------+----+---------+--------+----------+-------+---------------+--------+-------+---------------+-------+--------------+-----------------+--------+----+-------+-----+----------+---------+-------------------------+---------------------------------------+------------------------+---------------------------+-------------------------------+-----------------+------------------------+---------------------------+-----------+-------------------------------+---------------+------------------+------------------+--------------------+-----------+---------------+---------------+---------+-------------+----------------+----------------+-------------------+---------+-------------+-------------+-------+--------+--------------------+----------+-------+---------+--------+------+----------+--------+--------+------------------+----------+-------------+------------------+\n",
      "only showing top 5 rows\n",
      "\n"
     ]
    }
   ],
   "source": [
    "# Mostrando as primeiras linhas do DataFrame\n",
    "dataframe.show(5)"
   ]
  },
  {
   "cell_type": "code",
   "execution_count": 21,
   "id": "6daccaab-ff16-4255-93b6-b4cb22b80200",
   "metadata": {},
   "outputs": [
    {
     "name": "stderr",
     "output_type": "stream",
     "text": [
      "                                                                                \r"
     ]
    },
    {
     "data": {
      "text/plain": [
       "{'FlightDate': 0,\n",
       " 'Airline': 0,\n",
       " 'Origin': 0,\n",
       " 'Dest': 0,\n",
       " 'Cancelled': 0,\n",
       " 'Diverted': 0,\n",
       " 'CRSDepTime': 0,\n",
       " 'DepTime': 12107,\n",
       " 'DepDelayMinutes': 12120,\n",
       " 'DepDelay': 12120,\n",
       " 'ArrTime': 12479,\n",
       " 'ArrDelayMinutes': 13392,\n",
       " 'AirTime': 13392,\n",
       " 'CRSElapsedTime': 0,\n",
       " 'ActualElapsedTime': 13392,\n",
       " 'Distance': 0,\n",
       " 'Year': 0,\n",
       " 'Quarter': 0,\n",
       " 'Month': 0,\n",
       " 'DayofMonth': 0,\n",
       " 'DayOfWeek': 0,\n",
       " 'Marketing_Airline_Network': 0,\n",
       " 'Operated_or_Branded_Code_Share_Partners': 0,\n",
       " 'DOT_ID_Marketing_Airline': 0,\n",
       " 'IATA_Code_Marketing_Airline': 0,\n",
       " 'Flight_Number_Marketing_Airline': 0,\n",
       " 'Operating_Airline': 0,\n",
       " 'DOT_ID_Operating_Airline': 0,\n",
       " 'IATA_Code_Operating_Airline': 0,\n",
       " 'Tail_Number': 2770,\n",
       " 'Flight_Number_Operating_Airline': 0,\n",
       " 'OriginAirportID': 0,\n",
       " 'OriginAirportSeqID': 0,\n",
       " 'OriginCityMarketID': 0,\n",
       " 'OriginCityName': 0,\n",
       " 'OriginState': 0,\n",
       " 'OriginStateFips': 0,\n",
       " 'OriginStateName': 0,\n",
       " 'OriginWac': 0,\n",
       " 'DestAirportID': 0,\n",
       " 'DestAirportSeqID': 0,\n",
       " 'DestCityMarketID': 0,\n",
       " 'DestCityName': 0,\n",
       " 'DestState': 0,\n",
       " 'DestStateFips': 0,\n",
       " 'DestStateName': 0,\n",
       " 'DestWac': 0,\n",
       " 'DepDel15': 12120,\n",
       " 'DepartureDelayGroups': 12120,\n",
       " 'DepTimeBlk': 0,\n",
       " 'TaxiOut': 12325,\n",
       " 'WheelsOff': 12325,\n",
       " 'WheelsOn': 12479,\n",
       " 'TaxiIn': 12479,\n",
       " 'CRSArrTime': 0,\n",
       " 'ArrDelay': 13392,\n",
       " 'ArrDel15': 13392,\n",
       " 'ArrivalDelayGroups': 13392,\n",
       " 'ArrTimeBlk': 0,\n",
       " 'DistanceGroup': 0,\n",
       " 'DivAirportLandings': 0}"
      ]
     },
     "execution_count": 21,
     "metadata": {},
     "output_type": "execute_result"
    }
   ],
   "source": [
    "# Checagem por dados nulos\n",
    "Dict_Null = {col:dataframe_sample.filter(dataframe_sample[col].isNull()).count() for col in dataframe_sample.columns}\n",
    "Dict_Null"
   ]
  },
  {
   "cell_type": "markdown",
   "id": "780e1234",
   "metadata": {},
   "source": [
    "## Pré-processamento"
   ]
  },
  {
   "cell_type": "code",
   "execution_count": 24,
   "id": "a904cb33-f5b6-47f4-92e1-0d339be65cf3",
   "metadata": {},
   "outputs": [
    {
     "name": "stdout",
     "output_type": "stream",
     "text": [
      "+-------------------+--------------------+------+----+---------+--------+----------+-------+---------------+--------+-------+---------------+-------+--------------+-----------------+--------+----+-------+-----+----------+---------+-------------------------+---------------------------------------+---------------------------+-------------------------------+-----------------+---------------------------+-----------+-------------------------------+------------------+-----------+---------------+---------------+---------+--------------+---------+-------------+-------------+-------+--------+--------------------+----------+-------+---------+--------+------+----------+--------+--------+------------------+----------+-------------+------------------+\n",
      "|         FlightDate|             Airline|Origin|Dest|Cancelled|Diverted|CRSDepTime|DepTime|DepDelayMinutes|DepDelay|ArrTime|ArrDelayMinutes|AirTime|CRSElapsedTime|ActualElapsedTime|Distance|Year|Quarter|Month|DayofMonth|DayOfWeek|Marketing_Airline_Network|Operated_or_Branded_Code_Share_Partners|IATA_Code_Marketing_Airline|Flight_Number_Marketing_Airline|Operating_Airline|IATA_Code_Operating_Airline|Tail_Number|Flight_Number_Operating_Airline|    OriginCityName|OriginState|OriginStateFips|OriginStateName|OriginWac|  DestCityName|DestState|DestStateFips|DestStateName|DestWac|DepDel15|DepartureDelayGroups|DepTimeBlk|TaxiOut|WheelsOff|WheelsOn|TaxiIn|CRSArrTime|ArrDelay|ArrDel15|ArrivalDelayGroups|ArrTimeBlk|DistanceGroup|DivAirportLandings|\n",
      "+-------------------+--------------------+------+----+---------+--------+----------+-------+---------------+--------+-------+---------------+-------+--------------+-----------------+--------+----+-------+-----+----------+---------+-------------------------+---------------------------------------+---------------------------+-------------------------------+-----------------+---------------------------+-----------+-------------------------------+------------------+-----------+---------------+---------------+---------+--------------+---------+-------------+-------------+-------+--------+--------------------+----------+-------+---------+--------+------+----------+--------+--------+------------------+----------+-------------+------------------+\n",
      "|2022-04-04 00:00:00|Commutair Aka Cha...|   DEN| LNK|    false|   false|      1541| 1606.0|           25.0|    25.0| 1826.0|           16.0|   60.0|          89.0|             80.0|   423.0|2022|      2|    4|         4|        1|                       UA|                           UA_CODESHARE|                         UA|                           4252|               C5|                         C5|     N24103|                           4252|        Denver, CO|         CO|              8|       Colorado|       82|   Lincoln, NE|       NE|           31|     Nebraska|     65|     1.0|                 1.0| 1500-1559|   16.0|   1622.0|  1822.0|   4.0|      1810|    16.0|     1.0|               1.0| 1800-1859|            2|                 0|\n",
      "|2022-04-04 00:00:00|Commutair Aka Cha...|   IAH| HSV|    false|   false|      1020| 1014.0|            0.0|    -6.0| 1153.0|            0.0|   77.0|         115.0|             99.0|   595.0|2022|      2|    4|         4|        1|                       UA|                           UA_CODESHARE|                         UA|                           4227|               C5|                         C5|     N14180|                           4227|       Houston, TX|         TX|             48|          Texas|       74|Huntsville, AL|       AL|            1|      Alabama|     51|     0.0|                -1.0| 1000-1059|   17.0|   1031.0|  1148.0|   5.0|      1215|   -22.0|     0.0|              -2.0| 1200-1259|            3|                 0|\n",
      "|2022-04-04 00:00:00|Commutair Aka Cha...|   CPR| DEN|    false|   false|      1738| 1735.0|            0.0|    -3.0| 1848.0|            0.0|   39.0|          77.0|             73.0|   230.0|2022|      2|    4|         4|        1|                       UA|                           UA_CODESHARE|                         UA|                           4225|               C5|                         C5|     N14177|                           4225|        Casper, WY|         WY|             56|        Wyoming|       88|    Denver, CO|       CO|            8|     Colorado|     82|     0.0|                -1.0| 1700-1759|   17.0|   1752.0|  1831.0|  17.0|      1855|    -7.0|     0.0|              -1.0| 1800-1859|            1|                 0|\n",
      "|2022-04-04 00:00:00|Commutair Aka Cha...|   CRP| IAH|    false|   false|       737|  727.0|            0.0|   -10.0|  832.0|            0.0|   39.0|          68.0|             65.0|   201.0|2022|      2|    4|         4|        1|                       UA|                           UA_CODESHARE|                         UA|                           4224|               C5|                         C5|     N14180|                           4224|Corpus Christi, TX|         TX|             48|          Texas|       74|   Houston, TX|       TX|           48|        Texas|     74|     0.0|                -1.0| 0700-0759|    9.0|    736.0|   815.0|  17.0|       845|   -13.0|     0.0|              -1.0| 0800-0859|            1|                 0|\n",
      "|2022-04-04 00:00:00|GoJet Airlines, L...|   EWR| DCA|    false|   false|       959|  954.0|            0.0|    -5.0| 1112.0|            0.0|   48.0|          83.0|             78.0|   199.0|2022|      2|    4|         4|        1|                       UA|                           UA_CODESHARE|                         UA|                           4192|               G7|                         G7|     N559GJ|                           4192|        Newark, NJ|         NJ|             34|     New Jersey|       21|Washington, DC|       VA|           51|     Virginia|     38|     0.0|                -1.0| 0900-0959|   18.0|   1012.0|  1100.0|  12.0|      1122|   -10.0|     0.0|              -1.0| 1100-1159|            1|                 0|\n",
      "+-------------------+--------------------+------+----+---------+--------+----------+-------+---------------+--------+-------+---------------+-------+--------------+-----------------+--------+----+-------+-----+----------+---------+-------------------------+---------------------------------------+---------------------------+-------------------------------+-----------------+---------------------------+-----------+-------------------------------+------------------+-----------+---------------+---------------+---------+--------------+---------+-------------+-------------+-------+--------+--------------------+----------+-------+---------+--------+------+----------+--------+--------+------------------+----------+-------------+------------------+\n",
      "only showing top 5 rows\n",
      "\n"
     ]
    },
    {
     "name": "stderr",
     "output_type": "stream",
     "text": [
      "[Stage 230:>                                                        (0 + 1) / 1]\r"
     ]
    },
    {
     "name": "stdout",
     "output_type": "stream",
     "text": [
      "+-------+--------------------+------+------+------------------+------------------+------------------+------------------+-----------------+------------------+------------------+-----------------+------------------+-----------------+--------------------+------------------+------------------+------------------+------------------+-------------------------+---------------------------------------+------------------------+---------------------------+-------------------------------+-----------------+------------------------+---------------------------+-----------+-------------------------------+------------------+------------------+------------------+--------------+-----------+------------------+---------------+------------------+------------------+------------------+------------------+------------+---------+------------------+-------------+------------------+-------------------+--------------------+----------+------------------+------------------+------------------+-----------------+------------------+-----------------+-------------------+--------------------+----------+------------------+--------------------+\n",
      "|summary|             Airline|Origin|  Dest|        CRSDepTime|           DepTime|   DepDelayMinutes|          DepDelay|          ArrTime|   ArrDelayMinutes|           AirTime|   CRSElapsedTime| ActualElapsedTime|         Distance|                Year|           Quarter|             Month|        DayofMonth|         DayOfWeek|Marketing_Airline_Network|Operated_or_Branded_Code_Share_Partners|DOT_ID_Marketing_Airline|IATA_Code_Marketing_Airline|Flight_Number_Marketing_Airline|Operating_Airline|DOT_ID_Operating_Airline|IATA_Code_Operating_Airline|Tail_Number|Flight_Number_Operating_Airline|   OriginAirportID|OriginAirportSeqID|OriginCityMarketID|OriginCityName|OriginState|   OriginStateFips|OriginStateName|         OriginWac|     DestAirportID|  DestAirportSeqID|  DestCityMarketID|DestCityName|DestState|     DestStateFips|DestStateName|           DestWac|           DepDel15|DepartureDelayGroups|DepTimeBlk|           TaxiOut|         WheelsOff|          WheelsOn|           TaxiIn|        CRSArrTime|         ArrDelay|           ArrDel15|  ArrivalDelayGroups|ArrTimeBlk|     DistanceGroup|  DivAirportLandings|\n",
      "+-------+--------------------+------+------+------------------+------------------+------------------+------------------+-----------------+------------------+------------------+-----------------+------------------+-----------------+--------------------+------------------+------------------+------------------+------------------+-------------------------+---------------------------------------+------------------------+---------------------------+-------------------------------+-----------------+------------------------+---------------------------+-----------+-------------------------------+------------------+------------------+------------------+--------------+-----------+------------------+---------------+------------------+------------------+------------------+------------------+------------+---------+------------------+-------------+------------------+-------------------+--------------------+----------+------------------+------------------+------------------+-----------------+------------------+-----------------+-------------------+--------------------+----------+------------------+--------------------+\n",
      "|  count|              408034|408034|408034|            408034|            395927|            395914|            395914|           395555|            394642|            394642|           408034|            394642|           408034|              408034|            408034|            408034|            408034|            408034|                   408034|                                 408034|                  408034|                     408034|                         408034|           408034|                  408034|                     408034|     405264|                         408034|            408034|            408034|            408034|        408034|     408034|            408034|         408034|            408034|            408034|            408034|            408034|      408034|   408034|            408034|       408034|            408034|             395914|              395914|    408034|            395709|            395709|            395555|           395555|            408034|           394642|             394642|              394642|    408034|            408034|              408034|\n",
      "|   mean|                null|  null|  null|1329.2969531950769|1333.7618197293946|16.026351682436086|13.107104068055184|1456.782386773015|15.810587823901155|111.01423315308558|141.3211668635457|135.85912295194126|797.7561208134616|              2022.0|1.7414651720199787|  4.08788238235049|15.709031600307817|  4.00232823735277|                     null|                                   null|      19830.612961174804|                       null|              2563.297431096428|             null|       19991.18867790429|                       null|       null|             2563.3604160437612|12660.993502992398|1266103.1959395541| 31755.98430277869|          null|       null|27.460780229098557|           null|53.959907752785305|12661.814142939069|1266185.2601253816|31757.492757956446|        null|     null|27.509847218614134|         null| 54.05429694584275|0.21819890178170007| 0.21066696302732413|      null|16.974509045788697|1355.7642408941924|1454.5207442707083|7.882107418690195|1484.8541396060132|7.556950349937412|0.21613259612509567|-0.06526421414851942|      null|3.6626163505982343|0.003580583970943...|\n",
      "| stddev|                null|  null|  null| 491.3392734199565|506.35453372624147| 53.40179891675412| 54.38554927070117|543.6602181475596| 53.12300526027309| 70.03945493169807|71.88672579375923| 71.92362280723708|592.1954006284179|4.028069459678065...|0.7028785338399443|1.9954926046439772| 8.763407020797201|2.0066121787950295|                     null|                                   null|       275.7171166918896|                       null|             1745.4639683346331|             null|       376.7935093237631|                       null|       null|             1745.5517190988414|1521.5327577372861|152153.07710203034|1319.7972816355414|          null|       null| 16.70830414213662|           null|26.633131891202762|1522.1441106364525| 152214.2138813487|1320.3119421493093|        null|     null| 16.71467957152563|         null|26.632613303484064|0.41302369413358814|  2.3381523486024727|      null| 9.479777092629421| 508.3758257743881| 538.0692808558257|6.665177235383986|  519.319507191403|56.32291067814055|0.41160627584757287|  2.4808576385106598|      null|2.3209281527123804| 0.10993948765625883|\n",
      "|    min|Air Wisconsin Air...|   ABE|   ABE|                 1|               1.0|               0.0|             -43.0|              1.0|               0.0|               8.0|             22.0|              16.0|             31.0|                2022|                 1|                 1|                 1|                 1|                       AA|                                     AA|                   19393|                         AA|                              1|               9E|                   19393|                         9E|      202NV|                              1|             10135|           1013506|             30070|  Aberdeen, SD|         AK|                 1|        Alabama|                 1|             10135|           1013506|             30070|Aberdeen, SD|       AK|                 1|      Alabama|                 1|                0.0|                -2.0| 0001-0559|               1.0|               1.0|               1.0|              1.0|                 1|            -80.0|                0.0|                -2.0| 0001-0559|                 1|                   0|\n",
      "|    25%|                null|  null|  null|               910|             915.0|               0.0|              -5.0|           1045.0|               0.0|              60.0|             89.0|              83.0|            366.0|                2022|                 1|                 2|                 8|                 2|                     null|                                   null|                   19790|                       null|                           1107|             null|                   19790|                       null|       null|                           1107|             11292|           1129202|             30693|          null|       null|                12|           null|                33|             11292|           1129202|             30693|        null|     null|                12|         null|                33|                0.0|                -1.0|      null|              11.0|             931.0|            1042.0|              4.0|              1100|            -14.0|                0.0|                -1.0|      null|                 2|                   0|\n",
      "|    50%|                null|  null|  null|              1320|            1324.0|               0.0|              -2.0|           1458.0|               0.0|              93.0|            124.0|             119.0|            642.0|                2022|                 2|                 4|                16|                 4|                     null|                                   null|                   19805|                       null|                           2229|             null|                   19977|                       null|       null|                           2229|             12889|           1288903|             31453|          null|       null|                27|           null|                44|             12889|           1288903|             31453|        null|     null|                27|         null|                44|                0.0|                -1.0|      null|              15.0|            1337.0|            1455.0|              6.0|              1511|             -5.0|                0.0|                -1.0|      null|                 3|                   0|\n",
      "|    75%|                null|  null|  null|              1735|            1744.0|              11.0|              11.0|           1913.0|              10.0|             141.0|            171.0|             167.0|           1035.0|                2022|                 2|                 6|                23|                 6|                     null|                                   null|                   19977|                       null|                           3880|             null|                   20378|                       null|       null|                           3880|             14027|           1402702|             32467|          null|       null|                42|           null|                81|             14027|           1402702|             32467|        null|     null|                42|         null|                81|                0.0|                 0.0|      null|              19.0|            1758.0|            1909.0|              9.0|              1920|             10.0|                0.0|                 0.0|      null|                 5|                   0|\n",
      "|    max|United Air Lines ...|   YUM|   YUM|              2359|            2400.0|            5327.0|            5327.0|           2400.0|            5324.0|             658.0|            685.0|             698.0|           5095.0|                2022|                 3|                 7|                31|                 7|                       WN|                                     WN|                   20436|                         WN|                           9677|               ZW|                   20500|                         ZW|     N999JQ|                           9677|             16869|           1686901|             36101|      Yuma, AZ|         WY|                78|        Wyoming|                93|             16869|           1686901|             36101|    Yuma, AZ|       WY|                78|      Wyoming|                93|                1.0|                12.0| 2300-2359|             177.0|            2400.0|            2400.0|            280.0|              2359|           5324.0|                1.0|                12.0| 2300-2359|                11|                   9|\n",
      "+-------+--------------------+------+------+------------------+------------------+------------------+------------------+-----------------+------------------+------------------+-----------------+------------------+-----------------+--------------------+------------------+------------------+------------------+------------------+-------------------------+---------------------------------------+------------------------+---------------------------+-------------------------------+-----------------+------------------------+---------------------------+-----------+-------------------------------+------------------+------------------+------------------+--------------+-----------+------------------+---------------+------------------+------------------+------------------+------------------+------------+---------+------------------+-------------+------------------+-------------------+--------------------+----------+------------------+------------------+------------------+-----------------+------------------+-----------------+-------------------+--------------------+----------+------------------+--------------------+\n",
      "\n"
     ]
    },
    {
     "name": "stderr",
     "output_type": "stream",
     "text": [
      "                                                                                \r"
     ]
    }
   ],
   "source": [
    "# Remover colunas do DataFrame\n",
    "colunas_para_remover = ['DOT_ID_Marketing_Airline', 'DOT_ID_Operating_Airline', 'OriginAirportID', 'OriginAirportSeqID', 'OriginCityMarketID', 'DestAirportID', 'DestAirportSeqID', 'DestCityMarketID']\n",
    "dataframe_sem_colunas = dataframe_sample.drop(*colunas_para_remover)\n",
    "\n",
    "# Mostrar somente o nome das colunas\n",
    "print(\"Nome das colunas:\")\n",
    "for coluna in dataframe_sem_colunas.columns:\n",
    "    print(coluna)\n",
    "\n",
    "# Exibindo algumas estatísticas dos atributos\n",
    "dataframe_sample.summary().show()"
   ]
  },
  {
   "cell_type": "code",
   "execution_count": 6,
   "id": "c6ccf842-666e-4f07-bd72-15ed7bf40a66",
   "metadata": {},
   "outputs": [],
   "source": [
    "# Tratando valores nulos\n",
    "dataframe = dataframe.dropna()"
   ]
  },
  {
   "cell_type": "code",
   "execution_count": 7,
   "id": "57b51a34-3e39-4f0e-a32a-3e876703aeab",
   "metadata": {},
   "outputs": [
    {
     "name": "stdout",
     "output_type": "stream",
     "text": [
      "root\n",
      " |-- Severity: integer (nullable = true)\n",
      " |-- Start_Lat: double (nullable = true)\n",
      " |-- Start_Lng: double (nullable = true)\n",
      " |-- End_Lat: double (nullable = true)\n",
      " |-- End_Lng: double (nullable = true)\n",
      " |-- Distance(mi): double (nullable = true)\n",
      " |-- Temperature(F): double (nullable = true)\n",
      " |-- Wind_Chill(F): double (nullable = true)\n",
      " |-- Humidity(%): double (nullable = true)\n",
      " |-- Pressure(in): double (nullable = true)\n",
      " |-- Visibility(mi): double (nullable = true)\n",
      " |-- Wind_Speed(mph): double (nullable = true)\n",
      " |-- Precipitation(in): double (nullable = true)\n",
      "\n"
     ]
    }
   ],
   "source": [
    "# Lista de tipos de dados permitidos\n",
    "allowed_types = ['int', 'double']\n",
    "\n",
    "# Filtrando colunas com tipos permitidos\n",
    "selected_columns = [col_name for col_name, col_type in dataframe.dtypes if any(data_type in col_type for data_type in allowed_types)]\n",
    "\n",
    "# Selecionando apenas as colunas permitidas\n",
    "df_filtered = dataframe.select(*selected_columns)\n",
    "\n",
    "# Mostrando o esquema do DataFrame resultante\n",
    "df_filtered.printSchema()"
   ]
  },
  {
   "cell_type": "markdown",
   "id": "37017c10",
   "metadata": {},
   "source": [
    "## Data Preprocessing"
   ]
  },
  {
   "cell_type": "code",
   "execution_count": 10,
   "id": "0934095c-ad74-4226-952d-beeaa74b420a",
   "metadata": {},
   "outputs": [
    {
     "name": "stderr",
     "output_type": "stream",
     "text": [
      "[Stage 9:======================================================>  (21 + 1) / 22]\r"
     ]
    },
    {
     "name": "stdout",
     "output_type": "stream",
     "text": [
      "+---------+-------+\n",
      "|Severity4|  count|\n",
      "+---------+-------+\n",
      "|        1|  94421|\n",
      "|        0|3264408|\n",
      "+---------+-------+\n",
      "\n"
     ]
    },
    {
     "name": "stderr",
     "output_type": "stream",
     "text": [
      "                                                                                \r"
     ]
    }
   ],
   "source": [
    "# Adicionando coluna Severity4 e definindo valores\n",
    "df_filtered = df_filtered.withColumn('Severity4', col('Severity').cast('int'))\n",
    "df_filtered = df_filtered.withColumn('Severity4', (col('Severity4') == 4).cast('int'))\n",
    "df_filtered = df_filtered.drop('Severity')\n",
    "df_filtered.groupBy('Severity4').count().show()"
   ]
  },
  {
   "cell_type": "code",
   "execution_count": 11,
   "id": "fbba9a77-31e5-47f8-94d1-d208677c35ca",
   "metadata": {},
   "outputs": [],
   "source": [
    "# Criando um vetor de features para o modelo\n",
    "target = 'Severity4'\n",
    "feature_columns = df_filtered.columns\n",
    "feature_columns.remove(target)\n",
    "\n",
    "vector_assembler = VectorAssembler(inputCols=feature_columns, outputCol=\"features\")\n",
    "df_vector = vector_assembler.transform(df_filtered)"
   ]
  },
  {
   "cell_type": "code",
   "execution_count": 12,
   "id": "4153952c-9e45-4373-9298-1e7dffc79a2c",
   "metadata": {},
   "outputs": [],
   "source": [
    "# Dividindo o conjunto de dados em treino e teste\n",
    "train_data, test_data = df_vector.randomSplit([0.8, 0.2], seed=42)"
   ]
  },
  {
   "cell_type": "markdown",
   "id": "2b5ecd21",
   "metadata": {},
   "source": [
    "## Model"
   ]
  },
  {
   "cell_type": "markdown",
   "id": "f97386f3",
   "metadata": {},
   "source": [
    "### Random Forest"
   ]
  },
  {
   "cell_type": "code",
   "execution_count": 13,
   "id": "3984eccd-c0ff-4c56-8101-a1c0b3df48d1",
   "metadata": {},
   "outputs": [
    {
     "name": "stderr",
     "output_type": "stream",
     "text": [
      "[Stage 21:========================================>               (16 + 4) / 22]\r"
     ]
    },
    {
     "name": "stdout",
     "output_type": "stream",
     "text": [
      "24/02/16 00:07:12 WARN MemoryStore: Not enough space to cache rdd_64_16 in memory! (computed 19.7 MiB so far)\n",
      "24/02/16 00:07:12 WARN BlockManager: Persisting block rdd_64_16 to disk instead.\n",
      "24/02/16 00:07:12 WARN MemoryStore: Not enough space to cache rdd_64_17 in memory! (computed 29.6 MiB so far)\n",
      "24/02/16 00:07:12 WARN BlockManager: Persisting block rdd_64_17 to disk instead.\n"
     ]
    },
    {
     "name": "stderr",
     "output_type": "stream",
     "text": [
      "[Stage 21:=============================================>          (18 + 4) / 22]\r"
     ]
    },
    {
     "name": "stdout",
     "output_type": "stream",
     "text": [
      "24/02/16 00:07:15 WARN MemoryStore: Not enough space to cache rdd_64_19 in memory! (computed 13.1 MiB so far)\n",
      "24/02/16 00:07:15 WARN BlockManager: Persisting block rdd_64_19 to disk instead.\n"
     ]
    },
    {
     "name": "stderr",
     "output_type": "stream",
     "text": [
      "[Stage 21:==================================================>     (20 + 2) / 22]\r"
     ]
    },
    {
     "name": "stdout",
     "output_type": "stream",
     "text": [
      "24/02/16 00:07:18 WARN MemoryStore: Not enough space to cache rdd_64_21 in memory! (computed 13.1 MiB so far)\n",
      "24/02/16 00:07:18 WARN BlockManager: Persisting block rdd_64_21 to disk instead.\n"
     ]
    },
    {
     "name": "stderr",
     "output_type": "stream",
     "text": [
      "[Stage 21:=====================================================>  (21 + 1) / 22]\r"
     ]
    },
    {
     "name": "stdout",
     "output_type": "stream",
     "text": [
      "24/02/16 00:07:22 WARN MemoryStore: Not enough space to cache rdd_64_20 in memory! (computed 29.6 MiB so far)\n",
      "24/02/16 00:07:22 WARN BlockManager: Persisting block rdd_64_20 to disk instead.\n"
     ]
    },
    {
     "name": "stderr",
     "output_type": "stream",
     "text": [
      "                                                                                \r"
     ]
    },
    {
     "name": "stdout",
     "output_type": "stream",
     "text": [
      "24/02/16 00:07:24 WARN MemoryStore: Not enough space to cache rdd_64_12 in memory! (computed 19.7 MiB so far)\n",
      "24/02/16 00:07:24 WARN MemoryStore: Not enough space to cache rdd_64_11 in memory! (computed 19.7 MiB so far)\n",
      "24/02/16 00:07:24 WARN MemoryStore: Not enough space to cache rdd_64_13 in memory! (computed 13.1 MiB so far)\n",
      "24/02/16 00:07:24 WARN MemoryStore: Not enough space to cache rdd_64_10 in memory! (computed 29.6 MiB so far)\n"
     ]
    },
    {
     "name": "stderr",
     "output_type": "stream",
     "text": [
      "                                                                                \r"
     ]
    },
    {
     "name": "stdout",
     "output_type": "stream",
     "text": [
      "24/02/16 00:07:25 WARN MemoryStore: Not enough space to cache rdd_64_12 in memory! (computed 3.7 MiB so far)\n",
      "24/02/16 00:07:25 WARN MemoryStore: Not enough space to cache rdd_64_10 in memory! (computed 8.3 MiB so far)\n",
      "24/02/16 00:07:25 WARN MemoryStore: Not enough space to cache rdd_64_13 in memory! (computed 13.1 MiB so far)\n",
      "24/02/16 00:07:25 WARN MemoryStore: Not enough space to cache rdd_64_11 in memory! (computed 19.7 MiB so far)\n"
     ]
    },
    {
     "name": "stderr",
     "output_type": "stream",
     "text": [
      "                                                                                \r"
     ]
    },
    {
     "name": "stdout",
     "output_type": "stream",
     "text": [
      "24/02/16 00:07:27 WARN MemoryStore: Not enough space to cache rdd_64_10 in memory! (computed 13.1 MiB so far)\n",
      "24/02/16 00:07:27 WARN MemoryStore: Not enough space to cache rdd_64_13 in memory! (computed 13.1 MiB so far)\n",
      "24/02/16 00:07:27 WARN MemoryStore: Not enough space to cache rdd_64_12 in memory! (computed 8.3 MiB so far)\n",
      "24/02/16 00:07:27 WARN MemoryStore: Not enough space to cache rdd_64_11 in memory! (computed 13.1 MiB so far)\n"
     ]
    },
    {
     "name": "stderr",
     "output_type": "stream",
     "text": [
      "                                                                                \r"
     ]
    },
    {
     "name": "stdout",
     "output_type": "stream",
     "text": [
      "24/02/16 00:07:29 WARN MemoryStore: Not enough space to cache rdd_64_12 in memory! (computed 8.3 MiB so far)\n",
      "24/02/16 00:07:29 WARN MemoryStore: Not enough space to cache rdd_64_13 in memory! (computed 3.7 MiB so far)\n",
      "24/02/16 00:07:29 WARN MemoryStore: Not enough space to cache rdd_64_10 in memory! (computed 13.1 MiB so far)\n",
      "24/02/16 00:07:29 WARN MemoryStore: Not enough space to cache rdd_64_11 in memory! (computed 19.7 MiB so far)\n"
     ]
    },
    {
     "name": "stderr",
     "output_type": "stream",
     "text": [
      "                                                                                \r"
     ]
    }
   ],
   "source": [
    "# Criando e treinando um modelo de classificação (Random Forest)\n",
    "rf_classifier = RandomForestClassifier(labelCol=target, featuresCol=\"features\", numTrees=10)\n",
    "pipeline = Pipeline(stages=[rf_classifier])\n",
    "model = pipeline.fit(train_data)"
   ]
  },
  {
   "cell_type": "code",
   "execution_count": 14,
   "id": "e481295d-32a9-4ea8-bae5-0490cc836c67",
   "metadata": {},
   "outputs": [],
   "source": [
    "# Fazendo previsões no conjunto de teste\n",
    "predictions = model.transform(test_data)"
   ]
  },
  {
   "cell_type": "code",
   "execution_count": 15,
   "id": "612930be-d134-4001-9ade-43e818babac8",
   "metadata": {},
   "outputs": [
    {
     "name": "stderr",
     "output_type": "stream",
     "text": [
      "[Stage 31:=====================================================>  (21 + 1) / 22]\r"
     ]
    },
    {
     "name": "stdout",
     "output_type": "stream",
     "text": [
      "Accuracy: 0.972008995725541\n"
     ]
    },
    {
     "name": "stderr",
     "output_type": "stream",
     "text": [
      "                                                                                \r"
     ]
    }
   ],
   "source": [
    "# Avaliando o desempenho do modelo\n",
    "evaluator = MulticlassClassificationEvaluator(labelCol=\"Severity4\", metricName=\"accuracy\")\n",
    "accuracy = evaluator.evaluate(predictions)\n",
    "print(\"Accuracy:\", accuracy)"
   ]
  },
  {
   "cell_type": "code",
   "execution_count": null,
   "id": "ca62d5c5-64dd-4081-bd87-3277c202ef61",
   "metadata": {},
   "outputs": [],
   "source": [
    "# Salvando o DataFrame em formato Parquet\n",
    "parquet_output_path=\"hdfs://spark-master:9000/datasets/accidents_output\"\n",
    "df_filtered.write.parquet(parquet_output_path)"
   ]
  }
 ],
 "metadata": {
  "kernelspec": {
   "display_name": "Python 3 (ipykernel)",
   "language": "python",
   "name": "python3"
  },
  "language_info": {
   "codemirror_mode": {
    "name": "ipython",
    "version": 3
   },
   "file_extension": ".py",
   "mimetype": "text/x-python",
   "name": "python",
   "nbconvert_exporter": "python",
   "pygments_lexer": "ipython3",
   "version": "3.9.2"
  }
 },
 "nbformat": 4,
 "nbformat_minor": 5
}
